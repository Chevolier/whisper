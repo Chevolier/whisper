{
 "cells": [
  {
   "cell_type": "markdown",
   "id": "8f40caf1-4209-48c6-961e-2e097aacae5a",
   "metadata": {},
   "source": [
    "# prepare text and audio_paths files"
   ]
  },
  {
   "cell_type": "markdown",
   "id": "d9345328-38bc-4d65-a911-46d0528dcd98",
   "metadata": {},
   "source": [
    "## preprocess audio "
   ]
  },
  {
   "cell_type": "code",
   "execution_count": 43,
   "id": "1797e649-f631-4908-bde2-957e7dbe32b0",
   "metadata": {
    "tags": []
   },
   "outputs": [
    {
     "name": "stdout",
     "output_type": "stream",
     "text": [
      "(2173, 4)\n"
     ]
    },
    {
     "data": {
      "text/html": [
       "<div>\n",
       "<style scoped>\n",
       "    .dataframe tbody tr th:only-of-type {\n",
       "        vertical-align: middle;\n",
       "    }\n",
       "\n",
       "    .dataframe tbody tr th {\n",
       "        vertical-align: top;\n",
       "    }\n",
       "\n",
       "    .dataframe thead th {\n",
       "        text-align: right;\n",
       "    }\n",
       "</style>\n",
       "<table border=\"1\" class=\"dataframe\">\n",
       "  <thead>\n",
       "    <tr style=\"text-align: right;\">\n",
       "      <th></th>\n",
       "      <th>category_name</th>\n",
       "      <th>sentence</th>\n",
       "      <th>user_id</th>\n",
       "      <th>file_id</th>\n",
       "    </tr>\n",
       "  </thead>\n",
       "  <tbody>\n",
       "    <tr>\n",
       "      <th>0</th>\n",
       "      <td>Model</td>\n",
       "      <td>CMSN 20 si</td>\n",
       "      <td>yeungchimkuen</td>\n",
       "      <td>2956c101-d82f-4f2c-8f1b-6119fa87694d.wav</td>\n",
       "    </tr>\n",
       "    <tr>\n",
       "      <th>1</th>\n",
       "      <td>Model</td>\n",
       "      <td>CMSRO 20di cr</td>\n",
       "      <td>yeungchimkuen</td>\n",
       "      <td>c124f9b4-38e1-4cee-8b41-49f57f069806.wav</td>\n",
       "    </tr>\n",
       "    <tr>\n",
       "      <th>2</th>\n",
       "      <td>Model</td>\n",
       "      <td>CMSRO 20di rd</td>\n",
       "      <td>yeungchimkuen</td>\n",
       "      <td>17f3f07c-eca6-41d8-a3e4-9c0120595eb3.wav</td>\n",
       "    </tr>\n",
       "    <tr>\n",
       "      <th>3</th>\n",
       "      <td>Model</td>\n",
       "      <td>AF-52CS1TRHK(H)</td>\n",
       "      <td>yeungchimkuen</td>\n",
       "      <td>5102309c-8fb3-4232-b257-2bd8ed6ef53e.wav</td>\n",
       "    </tr>\n",
       "    <tr>\n",
       "      <th>4</th>\n",
       "      <td>Model</td>\n",
       "      <td>AF-74CS1TRHK(H)</td>\n",
       "      <td>yeungchimkuen</td>\n",
       "      <td>51ab811e-12a0-47b6-834d-939b8b4ec144.wav</td>\n",
       "    </tr>\n",
       "  </tbody>\n",
       "</table>\n",
       "</div>"
      ],
      "text/plain": [
       "  category_name         sentence        user_id  \\\n",
       "0         Model       CMSN 20 si  yeungchimkuen   \n",
       "1         Model    CMSRO 20di cr  yeungchimkuen   \n",
       "2         Model    CMSRO 20di rd  yeungchimkuen   \n",
       "3         Model  AF-52CS1TRHK(H)  yeungchimkuen   \n",
       "4         Model  AF-74CS1TRHK(H)  yeungchimkuen   \n",
       "\n",
       "                                    file_id  \n",
       "0  2956c101-d82f-4f2c-8f1b-6119fa87694d.wav  \n",
       "1  c124f9b4-38e1-4cee-8b41-49f57f069806.wav  \n",
       "2  17f3f07c-eca6-41d8-a3e4-9c0120595eb3.wav  \n",
       "3  5102309c-8fb3-4232-b257-2bd8ed6ef53e.wav  \n",
       "4  51ab811e-12a0-47b6-834d-939b8b4ec144.wav  "
      ]
     },
     "execution_count": 43,
     "metadata": {},
     "output_type": "execute_result"
    }
   ],
   "source": [
    "import os\n",
    "import pandas as pd\n",
    "import random\n",
    "\n",
    "seed = 17\n",
    "random.seed(seed)\n",
    "\n",
    "data_dir = \"data/midea_2173\"   # your midea data directory\n",
    "\n",
    "df_trans = pd.read_csv(os.path.join(data_dir, 'transcripts.csv'))\n",
    "\n",
    "print(df_trans.shape)\n",
    "df_trans.rename(columns={'content': 'sentence', 'record_file_id': 'file_id'}, inplace=True)\n",
    "df_trans.head()"
   ]
  },
  {
   "cell_type": "markdown",
   "id": "0abeac1f-2e07-4944-af33-b6ab8fef9d00",
   "metadata": {},
   "source": [
    "## convert amr to wav"
   ]
  },
  {
   "cell_type": "code",
   "execution_count": 44,
   "id": "d21eea4c-bb0d-4bfc-bf10-308dca490041",
   "metadata": {
    "tags": []
   },
   "outputs": [],
   "source": [
    "!pip install pydub"
   ]
  },
  {
   "cell_type": "code",
   "execution_count": 45,
   "id": "465ca1a8-f847-4d34-95e6-2f6dfb4a1b31",
   "metadata": {
    "tags": []
   },
   "outputs": [],
   "source": [
    "from pydub import AudioSegment\n",
    "from tqdm import tqdm\n",
    "\n",
    "for i, row in tqdm(df_trans.iterrows(), total=df_trans.shape[0]):\n",
    "    filename = row['file_id'][:-3]\n",
    "    amr_audio = AudioSegment.from_file(data_dir+f'/amrs/{filename}amr', format=\"amr\")\n",
    "    amr_audio.export(data_dir+f'/wavs/{filename}wav', format=\"wav\")\n",
    "    df_trans.loc[i, 'file_id'] = f'{filename}wav'\n",
    "\n",
    "df_trans.to_csv(data_dir+'/transcripts.csv', index=False)\n",
    "df_trans.head()"
   ]
  },
  {
   "cell_type": "markdown",
   "id": "328714a0-9645-401d-8766-5c9f8386b168",
   "metadata": {},
   "source": [
    "## combine different datasets to form a custom dataset"
   ]
  },
  {
   "cell_type": "code",
   "execution_count": 46,
   "id": "a1eafa59-bd3c-46ca-9683-925efd039516",
   "metadata": {
    "tags": []
   },
   "outputs": [],
   "source": [
    "custom_dir = 'data/custom_data_v0' # 5k mdcc, 5k cmcc, 1303 midea\n",
    "\n",
    "os.makedirs(custom_dir, exist_ok=True)\n",
    "\n",
    "text_path = os.path.join(custom_dir, 'text')\n",
    "audio_paths_path = os.path.join(custom_dir, 'audio_paths')"
   ]
  },
  {
   "cell_type": "markdown",
   "id": "bba2d104-f618-4344-a9d8-dc7f0084aae2",
   "metadata": {},
   "source": [
    "### MDCC data"
   ]
  },
  {
   "cell_type": "code",
   "execution_count": 47,
   "id": "55640961-2c18-4f9c-a1ce-0b34ecc3fa90",
   "metadata": {
    "tags": []
   },
   "outputs": [
    {
     "name": "stdout",
     "output_type": "stream",
     "text": [
      "train (65120, 4)\n",
      "                                          audio_path  \\\n",
      "0     ./audio/447_1709011939_16988_371.88_376.92.wav   \n",
      "1       ./audio/447_1810221351_22994_56.66_57.71.wav   \n",
      "2     ./audio/447_1711162014_17384_806.04_809.18.wav   \n",
      "3     ./audio/447_1711171151_23819_347.16_349.66.wav   \n",
      "4  ./audio/447_1810221419_57894_113.52_121.42001.wav   \n",
      "\n",
      "                                           text_path     sex  duration  \n",
      "0  ./transcription/447_1709011939_16988_371.88_37...    male   5.04000  \n",
      "1  ./transcription/447_1810221351_22994_56.66_57....    male   1.05000  \n",
      "2  ./transcription/447_1711162014_17384_806.04_80...    male   3.14000  \n",
      "3  ./transcription/447_1711171151_23819_347.16_34...    male   2.50000  \n",
      "4  ./transcription/447_1810221419_57894_113.52_12...  female   7.90001  \n",
      "valid (5663, 4)\n",
      "                                         audio_path  \\\n",
      "0      ./audio/447_1709011939_75569_596.5_600.1.wav   \n",
      "1  ./audio/447_1711171106_19828_2.19996_6.49001.wav   \n",
      "2       ./audio/447_1707171718_21090_18.76_26.3.wav   \n",
      "3    ./audio/447_1711162014_44465_774.63_779.04.wav   \n",
      "4    ./audio/447_1709011939_79382_218.88_221.06.wav   \n",
      "\n",
      "                                           text_path   sex  duration  \n",
      "0  ./transcription/447_1709011939_75569_596.5_600...  male   3.60000  \n",
      "1  ./transcription/447_1711171106_19828_2.19996_6...  male   4.29005  \n",
      "2  ./transcription/447_1707171718_21090_18.76_26....  male   7.54000  \n",
      "3  ./transcription/447_1711162014_44465_774.63_77...  male   4.41000  \n",
      "4  ./transcription/447_1709011939_79382_218.88_22...  male   2.18000  \n",
      "test (12492, 4)\n",
      "                                         audio_path  \\\n",
      "0      ./audio/447_1804041046_13350_13.56_16.64.wav   \n",
      "1    ./audio/447_1804261541_33391_974.16_977.84.wav   \n",
      "2  ./audio/447_2102011200_97296_1912.38_1916.44.wav   \n",
      "3    ./audio/447_1706131232_65761_418.34_421.44.wav   \n",
      "4    ./audio/447_2105311714_21613_106.92_110.16.wav   \n",
      "\n",
      "                                           text_path     sex  duration  \n",
      "0  ./transcription/447_1804041046_13350_13.56_16....  female      3.08  \n",
      "1  ./transcription/447_1804261541_33391_974.16_97...  female      3.68  \n",
      "2  ./transcription/447_2102011200_97296_1912.38_1...    male      4.06  \n",
      "3  ./transcription/447_1706131232_65761_418.34_42...  female      3.10  \n",
      "4  ./transcription/447_2105311714_21613_106.92_11...    male      3.24  \n"
     ]
    }
   ],
   "source": [
    "import uuid\n",
    "import shutil\n",
    "\n",
    "mdcc_dir = 'data/MDCC'\n",
    "\n",
    "splits = ['train', 'valid', 'test']\n",
    "\n",
    "counts = [5000, 500, 500]\n",
    "\n",
    "for split, count in zip(splits, counts):\n",
    "    save_dir = os.path.join(custom_dir, split)\n",
    "    if not os.path.exists(save_dir):\n",
    "        os.makedirs(save_dir)\n",
    "    \n",
    "    df = pd.read_csv(os.path.join(mdcc_dir, f'cnt_asr_{split}_metadata.csv'))\n",
    "    print(split, df.shape)\n",
    "    print(df.head())\n",
    "    \n",
    "    df_sample = df.sample(n=min(count, df.shape[0]), random_state=seed)\n",
    "    with open(os.path.join(custom_dir, split, 'text'), 'a') as fo1, open(os.path.join(custom_dir, split, 'audio_paths'), 'a') as fo2:\n",
    "        for i, row in df_sample.iterrows():\n",
    "            unique_id = str(uuid.uuid4())\n",
    "            with open(os.path.join(mdcc_dir, row['text_path'][2:])) as fi:\n",
    "                trans = fi.read()\n",
    "                trans = trans.strip()\n",
    "\n",
    "            audio_path = os.path.realpath(mdcc_dir+'/'+row['audio_path'][2:])\n",
    "            \n",
    "            fo1.write(f\"{unique_id} {trans}\\n\")\n",
    "            fo2.write(f\"{unique_id} {audio_path}\\n\")"
   ]
  },
  {
   "cell_type": "markdown",
   "id": "35db05bb-87cf-468c-96f7-d1eee676d94c",
   "metadata": {},
   "source": [
    "## Common Voice 17.0"
   ]
  },
  {
   "cell_type": "code",
   "execution_count": 48,
   "id": "fcf7268f-49b0-4062-ac19-dc058f226f35",
   "metadata": {
    "tags": []
   },
   "outputs": [
    {
     "name": "stdout",
     "output_type": "stream",
     "text": [
      "train (8429, 13)\n",
      "valid (5595, 13)\n",
      "test (5595, 13)\n"
     ]
    }
   ],
   "source": [
    "import uuid\n",
    "import shutil\n",
    "\n",
    "common_dir = 'data/cv-corpus-17.0-2024-03-15/zh-HK'\n",
    "splits = ['train', 'valid', 'test']\n",
    "\n",
    "counts = [5000, 500, 500]\n",
    "\n",
    "for split, count in zip(splits, counts):\n",
    "    save_dir = os.path.join(custom_dir, split)\n",
    "    \n",
    "    df = pd.read_csv(os.path.join(common_dir, f'{split}.tsv'), sep='\\t')\n",
    "    print(split, df.shape)\n",
    "    \n",
    "    df_sample = df.sample(n=min(count, df.shape[0]), random_state=seed)\n",
    "    with open(os.path.join(custom_dir, split, 'text'), 'a') as fo1, open(os.path.join(custom_dir, split, 'audio_paths'), 'a') as fo2:\n",
    "        for i, row in df_sample.iterrows():\n",
    "            unique_id = str(uuid.uuid4())\n",
    "            trans = row['sentence']\n",
    "            audio_path = os.path.realpath(common_dir+'/clips/'+row['path'])\n",
    "\n",
    "            fo1.write(f\"{unique_id} {trans}\\n\")\n",
    "            fo2.write(f\"{unique_id} {audio_path}\\n\")"
   ]
  },
  {
   "cell_type": "markdown",
   "id": "2512f129-1e80-4935-b1c6-0370b145a795",
   "metadata": {},
   "source": [
    "## Midea Data"
   ]
  },
  {
   "cell_type": "code",
   "execution_count": 49,
   "id": "26808f1f-a3c4-473d-a4f8-1a41e30250a8",
   "metadata": {
    "tags": []
   },
   "outputs": [
    {
     "name": "stdout",
     "output_type": "stream",
     "text": [
      "(2173, 4)\n",
      "      category_name      sentence           user_id  \\\n",
      "0             Model  AW-7480H(IL)  ex_hangyee.kwong   \n",
      "1           Surname             盛  ex_hangyee.kwong   \n",
      "2             Model   RC-5SLIH(W)     yeungchimkuen   \n",
      "3  Product Category           氣炸鍋     yeungchimkuen   \n",
      "4             Model        TAS-X3     yeungchimkuen   \n",
      "\n",
      "                                    file_id  \n",
      "0  16193c60-6ddf-4647-a9f1-4c576ec73076.wav  \n",
      "1  5aae676f-f5f6-4d85-8a54-33f3d98b4b83.wav  \n",
      "2  d935c585-8b32-4abf-9306-081f0ca41256.wav  \n",
      "3  e5c00f0c-81f4-43a1-8c00-987ee1952c89.wav  \n",
      "4  ce627395-3fa6-4ec8-94dd-b42b1fc700b9.wav  \n",
      "train 1303\n",
      "valid 434\n",
      "test 434\n"
     ]
    }
   ],
   "source": [
    "import uuid\n",
    "import shutil\n",
    "\n",
    "midea_dir = 'data/midea_2173'\n",
    "splits = ['train', 'valid', 'test']\n",
    "ratios = [0.6, 0.2, 0.2]\n",
    "\n",
    "df = pd.read_csv(os.path.join(midea_dir, f'transcripts.csv'))\n",
    "df = df.sample(frac=1, random_state=seed).reset_index(drop=True)\n",
    "print(df.shape)\n",
    "print(df.head())\n",
    "\n",
    "prev_count = 0\n",
    "num = df.shape[0]\n",
    "for split, ratio in zip(splits, ratios):\n",
    "    save_dir = os.path.join(custom_dir, split)\n",
    "    \n",
    "    count = int(num*ratio)\n",
    "    print(split, count)\n",
    "\n",
    "    df_sample = df.loc[prev_count:prev_count+count]\n",
    "    prev_count += count\n",
    "    \n",
    "    with open(os.path.join(custom_dir, split, 'text'), 'a') as fo1, open(os.path.join(custom_dir, split, 'audio_paths'), 'a') as fo2:\n",
    "        for i, row in df_sample.iterrows():\n",
    "            unique_id = str(uuid.uuid4())\n",
    "            trans = row['sentence']\n",
    "            audio_path = os.path.realpath(midea_dir+'/wavs/'+row['file_id'])\n",
    "\n",
    "            fo1.write(f\"{unique_id} {trans}\\n\")\n",
    "            fo2.write(f\"{unique_id} {audio_path}\\n\")"
   ]
  },
  {
   "cell_type": "code",
   "execution_count": 24,
   "id": "a06099b9-d91d-48a3-9e63-5e65e93d87ef",
   "metadata": {
    "tags": []
   },
   "outputs": [],
   "source": [
    "# # remove dirs\n",
    "\n",
    "# shutil.rmtree(custom_dir)"
   ]
  },
  {
   "cell_type": "markdown",
   "id": "510d87d6-4994-48fe-8bd7-a7e60db9c3ec",
   "metadata": {},
   "source": [
    "# process data"
   ]
  },
  {
   "cell_type": "code",
   "execution_count": 50,
   "id": "b3ca7a5d-2f26-4e88-95c1-9cf37cfa7e22",
   "metadata": {
    "tags": []
   },
   "outputs": [
    {
     "name": "stdout",
     "output_type": "stream",
     "text": [
      "Casting the dataset: 100%|██████████| 835/835 [00:00<00:00, 24586.98 examples/s]\n",
      "Saving the dataset (1/1 shards): 100%|█| 835/835 [00:03<00:00, 242.64 examples/s\n",
      "Data preparation done\n"
     ]
    }
   ],
   "source": [
    "!python3 finetune/custom_data/data_prep.py \\\n",
    "--source_data_dir data/${custom_dir}/test \\\n",
    "--output_data_dir data/${custom_dir}/test"
   ]
  },
  {
   "cell_type": "code",
   "execution_count": 51,
   "id": "c4314d15-4099-4d1e-b013-467b132d0c29",
   "metadata": {
    "tags": []
   },
   "outputs": [
    {
     "name": "stdout",
     "output_type": "stream",
     "text": [
      "Casting the dataset: 100%|█████████| 835/835 [00:00<00:00, 512098.82 examples/s]\n",
      "Saving the dataset (1/1 shards): 100%|█| 835/835 [00:05<00:00, 159.94 examples/s\n",
      "Data preparation done\n"
     ]
    }
   ],
   "source": [
    "!python3 finetune/custom_data/data_prep.py \\\n",
    "--source_data_dir data/${custom_dir}/valid \\\n",
    "--output_data_dir data/${custom_dir}/valid"
   ]
  },
  {
   "cell_type": "code",
   "execution_count": 52,
   "id": "8607b02d-ca92-4e7f-92a2-133de4668293",
   "metadata": {
    "tags": []
   },
   "outputs": [
    {
     "name": "stdout",
     "output_type": "stream",
     "text": [
      "Casting the dataset: 100%|██████| 3304/3304 [00:00<00:00, 1630734.34 examples/s]\n",
      "Saving the dataset (2/2 shards): 100%|█| 3304/3304 [00:20<00:00, 160.18 examples\n",
      "Data preparation done\n"
     ]
    }
   ],
   "source": [
    "!python3 finetune/custom_data/data_prep.py \\\n",
    "--source_data_dir data/${custom_dir}/train \\\n",
    "--output_data_dir data/${custom_dir}/train"
   ]
  }
 ],
 "metadata": {
  "kernelspec": {
   "display_name": "conda_whisper",
   "language": "python",
   "name": "conda_whisper"
  },
  "language_info": {
   "codemirror_mode": {
    "name": "ipython",
    "version": 3
   },
   "file_extension": ".py",
   "mimetype": "text/x-python",
   "name": "python",
   "nbconvert_exporter": "python",
   "pygments_lexer": "ipython3",
   "version": "3.10.14"
  }
 },
 "nbformat": 4,
 "nbformat_minor": 5
}
