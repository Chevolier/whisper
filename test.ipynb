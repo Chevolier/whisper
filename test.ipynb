{
 "cells": [
  {
   "cell_type": "code",
   "execution_count": 1,
   "id": "b3074ad7-e2ed-4e4a-a562-96e6c2b787d3",
   "metadata": {
    "tags": []
   },
   "outputs": [],
   "source": [
    "import warnings\n",
    "warnings.filterwarnings('ignore')"
   ]
  },
  {
   "cell_type": "markdown",
   "id": "90357cea-7c91-4671-bb80-ba7a2a651c81",
   "metadata": {},
   "source": [
    "# Test whisper models"
   ]
  },
  {
   "cell_type": "code",
   "execution_count": 2,
   "id": "2db7829c-5e0a-441b-9571-9c2d099f9f76",
   "metadata": {
    "tags": []
   },
   "outputs": [
    {
     "name": "stdout",
     "output_type": "stream",
     "text": [
      "device: cuda:0\n"
     ]
    }
   ],
   "source": [
    "import torch\n",
    "from datasets import load_dataset\n",
    "\n",
    "device = \"cuda:0\" if torch.cuda.is_available() else \"cpu\"\n",
    "torch_dtype = torch.float16 if torch.cuda.is_available() else torch.float32\n",
    "print(f\"device: {device}\")\n",
    "\n",
    "def initialize_pipe(model, model_path):\n",
    "    \n",
    "    # model = AutoModelForSpeechSeq2Seq.from_pretrained(model_id, torch_dtype=torch_dtype, low_cpu_mem_usage=True, use_safetensors=True, attn_implementation=\"flash_attention_2\") # use_flash_attention_2=True) # \n",
    "    # model.to(device)\n",
    "\n",
    "    if hasattr(model.generation_config, \"no_timestamps_token_id\"):\n",
    "        return_timestamps = True\n",
    "    else:\n",
    "        return_timestamps = False\n",
    "        \n",
    "    processor = AutoProcessor.from_pretrained(model_path)\n",
    "\n",
    "    pipe = pipeline(\n",
    "        \"automatic-speech-recognition\",\n",
    "        model=model,\n",
    "        tokenizer=processor.tokenizer,\n",
    "        feature_extractor=processor.feature_extractor,\n",
    "        max_new_tokens=128,\n",
    "        chunk_length_s=30,\n",
    "        batch_size=16,\n",
    "        return_timestamps=return_timestamps,\n",
    "        torch_dtype=torch_dtype,\n",
    "        device=device,\n",
    "    )\n",
    "    \n",
    "    return pipe"
   ]
  },
  {
   "cell_type": "markdown",
   "id": "0363e798-def4-4e24-8f8b-433b56afa8d9",
   "metadata": {},
   "source": [
    "# Test and compare different versions"
   ]
  },
  {
   "cell_type": "markdown",
   "id": "06ca574c-e654-460d-9efd-805be6518856",
   "metadata": {},
   "source": [
    "## Common voice 17.0, zh-HK"
   ]
  },
  {
   "cell_type": "code",
   "execution_count": 3,
   "id": "c1030fb1-efeb-48f0-8881-1e50916f82d9",
   "metadata": {
    "tags": []
   },
   "outputs": [],
   "source": [
    "# import os\n",
    "# import pandas as pd\n",
    "\n",
    "# test_data_dir = \"data/cv-corpus-17.0-2024-03-15/zh-HK/clips\"\n",
    "# test_data_path = \"data/cv-corpus-17.0-2024-03-15/zh-HK/test.tsv\"\n",
    "\n",
    "# test_data = pd.read_csv(test_data_path, sep='\\t')\n",
    "# print(test_data.shape)\n",
    "# test_data.head()\n",
    "\n",
    "# num_test = 10000\n",
    "# filenames = test_data['path'][:num_test]\n",
    "# filenames[:5]"
   ]
  },
  {
   "cell_type": "markdown",
   "id": "ef061be3-aeb6-4a2e-9cb1-dc20aa350349",
   "metadata": {},
   "source": [
    "## midea data"
   ]
  },
  {
   "cell_type": "code",
   "execution_count": 5,
   "id": "af4a2c2b-9d55-4068-a01b-eb96767762d6",
   "metadata": {
    "tags": []
   },
   "outputs": [
    {
     "data": {
      "text/html": [
       "<div>\n",
       "<style scoped>\n",
       "    .dataframe tbody tr th:only-of-type {\n",
       "        vertical-align: middle;\n",
       "    }\n",
       "\n",
       "    .dataframe tbody tr th {\n",
       "        vertical-align: top;\n",
       "    }\n",
       "\n",
       "    .dataframe thead th {\n",
       "        text-align: right;\n",
       "    }\n",
       "</style>\n",
       "<table border=\"1\" class=\"dataframe\">\n",
       "  <thead>\n",
       "    <tr style=\"text-align: right;\">\n",
       "      <th></th>\n",
       "      <th>category_name</th>\n",
       "      <th>true</th>\n",
       "      <th>user_id</th>\n",
       "      <th>file_id</th>\n",
       "    </tr>\n",
       "  </thead>\n",
       "  <tbody>\n",
       "    <tr>\n",
       "      <th>0</th>\n",
       "      <td>Model</td>\n",
       "      <td>CMSN 20 si</td>\n",
       "      <td>wuzy37</td>\n",
       "      <td>8deb96cd-1939-46d0-8f87-5bd798ade923.mp3</td>\n",
       "    </tr>\n",
       "    <tr>\n",
       "      <th>1</th>\n",
       "      <td>Model</td>\n",
       "      <td>CMSRO 20di cr</td>\n",
       "      <td>wuzy37</td>\n",
       "      <td>09b311d8-c557-4bfb-bac5-f0d18a5da8e9.mp3</td>\n",
       "    </tr>\n",
       "    <tr>\n",
       "      <th>2</th>\n",
       "      <td>Model</td>\n",
       "      <td>CMSN 20 si</td>\n",
       "      <td>ex_xietian2</td>\n",
       "      <td>6ae92f35-3139-417c-b0f4-d30ac25b3937.mp3</td>\n",
       "    </tr>\n",
       "    <tr>\n",
       "      <th>3</th>\n",
       "      <td>Model</td>\n",
       "      <td>CMSRO 20di cr</td>\n",
       "      <td>ex_xietian2</td>\n",
       "      <td>3b65f69e-5aea-4211-acaf-b7bb2f651755.mp3</td>\n",
       "    </tr>\n",
       "    <tr>\n",
       "      <th>4</th>\n",
       "      <td>Model</td>\n",
       "      <td>CMSRO 20di rd</td>\n",
       "      <td>ex_xietian2</td>\n",
       "      <td>c40afd4e-dafb-40a5-8c6e-ce9283a33278.mp3</td>\n",
       "    </tr>\n",
       "  </tbody>\n",
       "</table>\n",
       "</div>"
      ],
      "text/plain": [
       "  category_name           true      user_id  \\\n",
       "0         Model     CMSN 20 si       wuzy37   \n",
       "1         Model  CMSRO 20di cr       wuzy37   \n",
       "2         Model     CMSN 20 si  ex_xietian2   \n",
       "3         Model  CMSRO 20di cr  ex_xietian2   \n",
       "4         Model  CMSRO 20di rd  ex_xietian2   \n",
       "\n",
       "                                    file_id  \n",
       "0  8deb96cd-1939-46d0-8f87-5bd798ade923.mp3  \n",
       "1  09b311d8-c557-4bfb-bac5-f0d18a5da8e9.mp3  \n",
       "2  6ae92f35-3139-417c-b0f4-d30ac25b3937.mp3  \n",
       "3  3b65f69e-5aea-4211-acaf-b7bb2f651755.mp3  \n",
       "4  c40afd4e-dafb-40a5-8c6e-ce9283a33278.mp3  "
      ]
     },
     "execution_count": 5,
     "metadata": {},
     "output_type": "execute_result"
    }
   ],
   "source": [
    "import pandas as pd\n",
    "test_data_dir = \"data/midea_data_500/clips\"\n",
    "\n",
    "df = pd.read_csv(\"./data/midea_data_500/transcripts.csv\")\n",
    "df.rename(columns={\"sentence\": \"true\"}, inplace=True)\n",
    "df.head()"
   ]
  },
  {
   "cell_type": "markdown",
   "id": "715a2802-ea98-4293-8af1-5da1f614ae2a",
   "metadata": {},
   "source": [
    "## clear GPU"
   ]
  },
  {
   "cell_type": "code",
   "execution_count": 6,
   "id": "6f146fff-9046-45e4-b345-e6219a510dc8",
   "metadata": {
    "tags": []
   },
   "outputs": [],
   "source": [
    "import gc\n",
    "\n",
    "# Clear the model from GPU memory\n",
    "def clear_model_from_gpu(model):\n",
    "    # Delete the model object\n",
    "    del model\n",
    "    # Force garbage collection to free any unreferenced memory\n",
    "    gc.collect()\n",
    "    # Clear any existing CUDA cache\n",
    "    torch.cuda.empty_cache()\n",
    "    # Optionally, you can reinitialize the CUDA context by calling CUDA operations\n",
    "    torch.cuda.synchronize()\n",
    "    \n",
    "    print(\"Model cleared from GPU memory.\")"
   ]
  },
  {
   "cell_type": "code",
   "execution_count": 15,
   "id": "0e7bb5a1-3b93-4dd6-a2b3-34b9fcca11a5",
   "metadata": {
    "scrolled": true,
    "tags": []
   },
   "outputs": [
    {
     "name": "stderr",
     "output_type": "stream",
     "text": [
      "Special tokens have been added in the vocabulary, make sure the associated word embeddings are fine-tuned or trained.\n"
     ]
    },
    {
     "name": "stdout",
     "output_type": "stream",
     "text": [
      "model label: large-v3, result:  Thank you.\n"
     ]
    },
    {
     "name": "stderr",
     "output_type": "stream",
     "text": [
      "100%|██████████| 20/20 [00:08<00:00,  2.44it/s]"
     ]
    },
    {
     "name": "stdout",
     "output_type": "stream",
     "text": [
      "Model cleared from GPU memory.\n"
     ]
    },
    {
     "name": "stderr",
     "output_type": "stream",
     "text": [
      "\n"
     ]
    }
   ],
   "source": [
    "import os\n",
    "import json\n",
    "import time\n",
    "from tqdm import tqdm\n",
    "from faster_whisper import WhisperModel\n",
    "from transformers import AutoModelForSpeechSeq2Seq, AutoProcessor, pipeline\n",
    "\n",
    "model_ids = [\n",
    "    # {\"label\": \"small-c\", \"model_path\": \"/home/ec2-user/SageMaker/efs/Models/whisper-small-cantonese\"},\n",
    "    # {\"label\": \"medium\", \"model_path\": \"/home/ec2-user/SageMaker/efs/Models/whisper-medium\"},\n",
    "    # {\"label\": \"faster-large-v3\", \"model_path\": \"/home/ec2-user/SageMaker/efs/Models/faster-whisper-large-v3\"},  \n",
    "    # {\"label\": \"ckpt-270\", \"model_path\": \"/home/ec2-user/SageMaker/efs/Projects/whisper/checkpoint/checkpoint-270\"},  \n",
    "    # {\"label\": \"ckpt-675\", \"model_path\": \"/home/ec2-user/SageMaker/efs/Projects/whisper/checkpoint/checkpoint-675\"}, \n",
    "    {\"label\": \"large-v3\", \"model_path\": \"/home/ec2-user/SageMaker/efs/Models/whisper-large-v3\"},\n",
    "]\n",
    "\n",
    "df = df[:20]\n",
    "sample = os.path.join(test_data_dir, df.loc[0, 'file_id'])\n",
    "\n",
    "results = []\n",
    "\n",
    "for model_id in model_ids:\n",
    "    label = model_id[\"label\"]\n",
    "    model_path = model_id[\"model_path\"]\n",
    "    \n",
    "    if 'faster' in label: \n",
    "        model = WhisperModel(model_path)\n",
    "        # model.to(device)\n",
    "        segments, info = model.transcribe(sample, language=\"yue\") # \n",
    "        pred = ''.join([segment.text for segment in segments])\n",
    "        print(f\"model label: {label}, result: {pred}\")\n",
    "    else:\n",
    "        model = AutoModelForSpeechSeq2Seq.from_pretrained(model_path, torch_dtype=torch_dtype, low_cpu_mem_usage=True, use_safetensors=True, attn_implementation=\"flash_attention_2\") \n",
    "        model.to(device)\n",
    "        \n",
    "        pipe = initialize_pipe(model, model_path)\n",
    "        result = pipe(sample)\n",
    "        print(f\"model label: {label}, result: {result['text']}\")\n",
    "    \n",
    "    for idx, row in tqdm(df.iterrows(), total=df.shape[0]):\n",
    "        filename = row['file_id']\n",
    "        filepath = os.path.join(test_data_dir, filename)\n",
    "        \n",
    "        if not os.path.exists(filepath):\n",
    "            continue            \n",
    "        \n",
    "        start_time = time.time()\n",
    "        if label == \"large-v3\":\n",
    "            result = pipe(filepath, generate_kwargs={\"language\": \"cantonese\"})\n",
    "        elif label == \"faster-large-v3\":\n",
    "            segments, info = model.transcribe(filepath, language=\"yue\") # \n",
    "            result = {'text': ''.join([segment.text for segment in segments])}\n",
    "        else:\n",
    "            result = pipe(filepath)\n",
    "        \n",
    "        time_cost = time.time() - start_time\n",
    "        \n",
    "        df.loc[idx, f\"pred-{label}\"] = result['text']\n",
    "        df.loc[idx, f\"time-{label}\"] = round(time_cost, 2)\n",
    "        df.loc[idx, f\"chunks-{label}\"] = json.dumps(result.get(\"chunks\", \"\"))\n",
    "    \n",
    "    clear_model_from_gpu(model)"
   ]
  },
  {
   "cell_type": "code",
   "execution_count": 18,
   "id": "e6a36275-a158-48ca-97bb-3e01621248b0",
   "metadata": {
    "tags": []
   },
   "outputs": [
    {
     "data": {
      "text/plain": [
       "True"
      ]
     },
     "execution_count": 18,
     "metadata": {},
     "output_type": "execute_result"
    }
   ],
   "source": [
    "os.path.exists(sample)"
   ]
  },
  {
   "cell_type": "code",
   "execution_count": 16,
   "id": "6efb3724-98b3-4b6e-8b4c-cadfcfc03897",
   "metadata": {
    "tags": []
   },
   "outputs": [
    {
     "data": {
      "text/html": [
       "<div>\n",
       "<style scoped>\n",
       "    .dataframe tbody tr th:only-of-type {\n",
       "        vertical-align: middle;\n",
       "    }\n",
       "\n",
       "    .dataframe tbody tr th {\n",
       "        vertical-align: top;\n",
       "    }\n",
       "\n",
       "    .dataframe thead th {\n",
       "        text-align: right;\n",
       "    }\n",
       "</style>\n",
       "<table border=\"1\" class=\"dataframe\">\n",
       "  <thead>\n",
       "    <tr style=\"text-align: right;\">\n",
       "      <th></th>\n",
       "      <th>category_name</th>\n",
       "      <th>true</th>\n",
       "      <th>user_id</th>\n",
       "      <th>file_id</th>\n",
       "      <th>pred-large-v3</th>\n",
       "      <th>time-large-v3</th>\n",
       "      <th>chunks-large-v3</th>\n",
       "      <th>pred-ckpt-270</th>\n",
       "      <th>time-ckpt-270</th>\n",
       "      <th>chunks-ckpt-270</th>\n",
       "      <th>pred-ckpt-675</th>\n",
       "      <th>time-ckpt-675</th>\n",
       "      <th>chunks-ckpt-675</th>\n",
       "    </tr>\n",
       "  </thead>\n",
       "  <tbody>\n",
       "    <tr>\n",
       "      <th>0</th>\n",
       "      <td>Model</td>\n",
       "      <td>CMSN 20 si</td>\n",
       "      <td>wuzy37</td>\n",
       "      <td>8deb96cd-1939-46d0-8f87-5bd798ade923.mp3</td>\n",
       "      <td>新年快樂</td>\n",
       "      <td>0.34</td>\n",
       "      <td>[{\"timestamp\": [0.0, 4.0], \"text\": \" \\u65b0\\u5...</td>\n",
       "      <td></td>\n",
       "      <td>3.18</td>\n",
       "      <td>[]</td>\n",
       "      <td>�</td>\n",
       "      <td>0.28</td>\n",
       "      <td>[{\"timestamp\": [0.0, null], \"text\": \"\\ufffd\"}]</td>\n",
       "    </tr>\n",
       "    <tr>\n",
       "      <th>1</th>\n",
       "      <td>Model</td>\n",
       "      <td>CMSRO 20di cr</td>\n",
       "      <td>wuzy37</td>\n",
       "      <td>09b311d8-c557-4bfb-bac5-f0d18a5da8e9.mp3</td>\n",
       "      <td>字幕由 Amara.org 社群提供</td>\n",
       "      <td>0.57</td>\n",
       "      <td>[{\"timestamp\": [0.0, 7.88], \"text\": \" \\u5b57\\u...</td>\n",
       "      <td></td>\n",
       "      <td>3.10</td>\n",
       "      <td>[]</td>\n",
       "      <td>�</td>\n",
       "      <td>0.29</td>\n",
       "      <td>[{\"timestamp\": [0.0, null], \"text\": \"\\ufffd\"}]</td>\n",
       "    </tr>\n",
       "    <tr>\n",
       "      <th>2</th>\n",
       "      <td>Model</td>\n",
       "      <td>CMSN 20 si</td>\n",
       "      <td>ex_xietian2</td>\n",
       "      <td>6ae92f35-3139-417c-b0f4-d30ac25b3937.mp3</td>\n",
       "      <td>收下</td>\n",
       "      <td>0.28</td>\n",
       "      <td>[{\"timestamp\": [0.0, 1.0], \"text\": \" \\u6536\\u4...</td>\n",
       "      <td></td>\n",
       "      <td>3.14</td>\n",
       "      <td>[]</td>\n",
       "      <td>�</td>\n",
       "      <td>0.28</td>\n",
       "      <td>[{\"timestamp\": [0.0, null], \"text\": \"\\ufffd\"}]</td>\n",
       "    </tr>\n",
       "    <tr>\n",
       "      <th>3</th>\n",
       "      <td>Model</td>\n",
       "      <td>CMSRO 20di cr</td>\n",
       "      <td>ex_xietian2</td>\n",
       "      <td>3b65f69e-5aea-4211-acaf-b7bb2f651755.mp3</td>\n",
       "      <td>CNSRO20 DICI</td>\n",
       "      <td>0.38</td>\n",
       "      <td>[{\"timestamp\": [0.0, 5.32], \"text\": \" CNSRO20 ...</td>\n",
       "      <td></td>\n",
       "      <td>3.15</td>\n",
       "      <td>[]</td>\n",
       "      <td>�</td>\n",
       "      <td>0.29</td>\n",
       "      <td>[{\"timestamp\": [0.0, null], \"text\": \"\\ufffd\"}]</td>\n",
       "    </tr>\n",
       "    <tr>\n",
       "      <th>4</th>\n",
       "      <td>Model</td>\n",
       "      <td>CMSRO 20di rd</td>\n",
       "      <td>ex_xietian2</td>\n",
       "      <td>c40afd4e-dafb-40a5-8c6e-ce9283a33278.mp3</td>\n",
       "      <td>自動化測試CMS好無好你驚好驚</td>\n",
       "      <td>0.62</td>\n",
       "      <td>[{\"timestamp\": [0.0, 5.0], \"text\": \" \\u81ea\\u5...</td>\n",
       "      <td></td>\n",
       "      <td>3.12</td>\n",
       "      <td>[]</td>\n",
       "      <td>�</td>\n",
       "      <td>0.27</td>\n",
       "      <td>[{\"timestamp\": [0.0, null], \"text\": \"\\ufffd\"}]</td>\n",
       "    </tr>\n",
       "  </tbody>\n",
       "</table>\n",
       "</div>"
      ],
      "text/plain": [
       "  category_name           true      user_id  \\\n",
       "0         Model     CMSN 20 si       wuzy37   \n",
       "1         Model  CMSRO 20di cr       wuzy37   \n",
       "2         Model     CMSN 20 si  ex_xietian2   \n",
       "3         Model  CMSRO 20di cr  ex_xietian2   \n",
       "4         Model  CMSRO 20di rd  ex_xietian2   \n",
       "\n",
       "                                    file_id        pred-large-v3  \\\n",
       "0  8deb96cd-1939-46d0-8f87-5bd798ade923.mp3                 新年快樂   \n",
       "1  09b311d8-c557-4bfb-bac5-f0d18a5da8e9.mp3   字幕由 Amara.org 社群提供   \n",
       "2  6ae92f35-3139-417c-b0f4-d30ac25b3937.mp3                   收下   \n",
       "3  3b65f69e-5aea-4211-acaf-b7bb2f651755.mp3         CNSRO20 DICI   \n",
       "4  c40afd4e-dafb-40a5-8c6e-ce9283a33278.mp3      自動化測試CMS好無好你驚好驚   \n",
       "\n",
       "   time-large-v3                                    chunks-large-v3  \\\n",
       "0           0.34  [{\"timestamp\": [0.0, 4.0], \"text\": \" \\u65b0\\u5...   \n",
       "1           0.57  [{\"timestamp\": [0.0, 7.88], \"text\": \" \\u5b57\\u...   \n",
       "2           0.28  [{\"timestamp\": [0.0, 1.0], \"text\": \" \\u6536\\u4...   \n",
       "3           0.38  [{\"timestamp\": [0.0, 5.32], \"text\": \" CNSRO20 ...   \n",
       "4           0.62  [{\"timestamp\": [0.0, 5.0], \"text\": \" \\u81ea\\u5...   \n",
       "\n",
       "  pred-ckpt-270  time-ckpt-270 chunks-ckpt-270 pred-ckpt-675  time-ckpt-675  \\\n",
       "0                         3.18              []             �           0.28   \n",
       "1                         3.10              []             �           0.29   \n",
       "2                         3.14              []             �           0.28   \n",
       "3                         3.15              []             �           0.29   \n",
       "4                         3.12              []             �           0.27   \n",
       "\n",
       "                                  chunks-ckpt-675  \n",
       "0  [{\"timestamp\": [0.0, null], \"text\": \"\\ufffd\"}]  \n",
       "1  [{\"timestamp\": [0.0, null], \"text\": \"\\ufffd\"}]  \n",
       "2  [{\"timestamp\": [0.0, null], \"text\": \"\\ufffd\"}]  \n",
       "3  [{\"timestamp\": [0.0, null], \"text\": \"\\ufffd\"}]  \n",
       "4  [{\"timestamp\": [0.0, null], \"text\": \"\\ufffd\"}]  "
      ]
     },
     "execution_count": 16,
     "metadata": {},
     "output_type": "execute_result"
    }
   ],
   "source": [
    "df.head()"
   ]
  },
  {
   "cell_type": "markdown",
   "id": "3d36b749-924b-49b7-b0cb-e4975b7c73c0",
   "metadata": {},
   "source": [
    "## CER calculation"
   ]
  },
  {
   "cell_type": "code",
   "execution_count": null,
   "id": "038c836c-373e-4224-96ba-fb142d1c7f1c",
   "metadata": {},
   "outputs": [],
   "source": [
    "import re\n",
    "import jiwer\n",
    "from whisper.normalizers import BasicTextNormalizer, EnglishTextNormalizer\n",
    "\n",
    "class ChineseTextNormalizer:\n",
    "    def __init__(self, split_letters: bool = False):\n",
    "\n",
    "        self.split_letters = split_letters\n",
    "\n",
    "    def __call__(self, s: str):\n",
    "        s = s.lower()\n",
    "        # s = re.sub(r\"[<\\[][^>\\]]*[>\\]]\", \"\", s)  # remove words between brackets\n",
    "        # s = re.sub(r\"\\(([^)]+?)\\)\", \"\", s)  # remove words between parenthesis\n",
    "        # s = self.clean(s).lower()\n",
    "\n",
    "        # if self.split_letters:\n",
    "        #     s = \" \".join(regex.findall(r\"\\X\", s, regex.U))\n",
    "\n",
    "        s = re.sub(\n",
    "            r\"\\s+\", \"\", s\n",
    "        )  # remove any successive whitespace characters\n",
    "        \n",
    "        return s\n",
    "    \n",
    "# normalizer = EnglishTextNormalizer()\n",
    "# normalizer = BasicTextNormalizer()\n",
    "normalizer = ChineseTextNormalizer()"
   ]
  },
  {
   "cell_type": "code",
   "execution_count": null,
   "id": "94da5bcc-9ac1-4e0a-a9c5-45b6af43365d",
   "metadata": {
    "tags": []
   },
   "outputs": [],
   "source": [
    "df.head()"
   ]
  },
  {
   "cell_type": "code",
   "execution_count": null,
   "id": "66b770ec-1b14-44de-ad8a-da60acf7d74b",
   "metadata": {},
   "outputs": [],
   "source": [
    "new_columns = ['true', 'true-clean']\n",
    "pred_cols, cer_cols, time_cols = [], [], []\n",
    "for model_id in model_ids:\n",
    "    label = model_id['label']\n",
    "    pred_cols.extend([f'pred-{label}',f'pred-{label}-clean'])\n",
    "    cer_cols.append(f'cer-{label}')\n",
    "    time_cols.append(f'time-{label}')\n",
    "\n",
    "new_columns.extend(pred_cols+cer_cols+time_cols)\n",
    "new_columns.extend(['file_id', 'user_id', 'category_name'])\n",
    "\n",
    "for i, row in tqdm(df.iterrows(), total=df.shape[0]):\n",
    "    \n",
    "    true_clean = normalizer(row['true'])\n",
    "    df.loc[i, 'true-clean'] = true_clean\n",
    "    \n",
    "    for model_id in model_ids:\n",
    "        label = model_id['label']\n",
    "        pred_clean = normalizer(row[f'pred-{label}'])\n",
    "        df.loc[i, f'pred-{label}-clean'] = pred_clean\n",
    "        \n",
    "        cer = jiwer.cer(true_clean, pred_clean)\n",
    "        df.loc[i, f'cer-{label}'] = cer\n",
    "        \n",
    "df = df[new_columns]\n",
    "df = df.fillna(\"\")\n",
    "df.to_csv(\"outputs/transcripts.csv\", index=False)\n",
    "df.head(10)"
   ]
  },
  {
   "cell_type": "code",
   "execution_count": null,
   "id": "fb9d545e-7697-4845-852f-721d8c49f697",
   "metadata": {
    "tags": []
   },
   "outputs": [],
   "source": [
    "df = df.fillna(\"\")\n",
    "cers = []\n",
    "for model_id in model_ids:\n",
    "    label = model_id['label']\n",
    "    df = df[df[f\"pred-{label}-clean\"]!='']\n",
    "    cer = jiwer.cer(list(df[\"true-clean\"]), list(df[f\"pred-{label}-clean\"]))\n",
    "    \n",
    "    cers.append({'model': label, 'cer': cer})\n",
    "\n",
    "df_cers = pd.DataFrame(cers)\n",
    "df_cers.to_csv(\"outputs/cers.csv\", index=False)\n",
    "df_cers.head()"
   ]
  },
  {
   "cell_type": "code",
   "execution_count": null,
   "id": "a49f18f8-c91b-4a03-acca-2cc4e9ed4455",
   "metadata": {},
   "outputs": [],
   "source": [
    "df_cer_stats = df[cer_cols].describe(percentiles=[0.5, 0.6, 0.7, 0.8, 0.9, 0.95, 0.99])\n",
    "df_cer_stats.to_csv(\"outputs/cer_stats.csv\")\n",
    "df_cer_stats.head()"
   ]
  },
  {
   "cell_type": "code",
   "execution_count": null,
   "id": "57e0b359-d16c-4419-a718-e9d22ef26a03",
   "metadata": {
    "tags": []
   },
   "outputs": [],
   "source": [
    "df_time_stats = df[time_cols].describe(percentiles=[0.5, 0.6, 0.7, 0.8, 0.9, 0.95, 0.99])\n",
    "df_time_stats.to_csv(\"outputs/time_stats.csv\")\n",
    "df_time_stats.head()"
   ]
  },
  {
   "cell_type": "markdown",
   "id": "bfa78fef-70b8-4fa0-93f3-e3b74f5d2fb8",
   "metadata": {},
   "source": [
    "# Calculate the statistics of dataset"
   ]
  },
  {
   "cell_type": "code",
   "execution_count": null,
   "id": "21192a0e-11f1-4bbc-adb7-fff200d622ef",
   "metadata": {
    "tags": []
   },
   "outputs": [],
   "source": [
    "# import pandas as pd\n",
    "\n",
    "# path = \"data/cv-corpus-17.0-2024-03-15/zh-HK/clip_durations.tsv\"\n",
    "\n",
    "# df = pd.read_csv(path, sep='\\t')\n",
    "# df.head()"
   ]
  },
  {
   "cell_type": "code",
   "execution_count": null,
   "id": "c9648a5e-fc9e-47e0-a3d3-ca1d558baaaa",
   "metadata": {
    "tags": []
   },
   "outputs": [],
   "source": [
    "# df['duration[ms]'].describe()"
   ]
  },
  {
   "cell_type": "code",
   "execution_count": null,
   "id": "30ff9dad-08c4-40cf-ab4e-b26aaf474673",
   "metadata": {},
   "outputs": [],
   "source": []
  }
 ],
 "metadata": {
  "kernelspec": {
   "display_name": "conda_whisper_py310",
   "language": "python",
   "name": "conda_whisper_py310"
  },
  "language_info": {
   "codemirror_mode": {
    "name": "ipython",
    "version": 3
   },
   "file_extension": ".py",
   "mimetype": "text/x-python",
   "name": "python",
   "nbconvert_exporter": "python",
   "pygments_lexer": "ipython3",
   "version": "3.10.14"
  }
 },
 "nbformat": 4,
 "nbformat_minor": 5
}
