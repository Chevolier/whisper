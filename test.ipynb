{
 "cells": [
  {
   "cell_type": "markdown",
   "id": "321bae31-f7e7-4ef7-bc0e-6f761271fcb5",
   "metadata": {},
   "source": [
    "# Load test data"
   ]
  },
  {
   "cell_type": "code",
   "execution_count": 46,
   "id": "2d717d12-8ee4-4cd4-a334-69f7e2047a94",
   "metadata": {
    "tags": []
   },
   "outputs": [],
   "source": [
    "import warnings\n",
    "warnings.filterwarnings('ignore')"
   ]
  },
  {
   "cell_type": "code",
   "execution_count": 47,
   "id": "a28ae617-cadb-4ea4-9b11-7d89a6f582b3",
   "metadata": {
    "tags": []
   },
   "outputs": [],
   "source": [
    "## old version\n",
    "# import whisper\n",
    "\n",
    "# model = whisper.load_model(\"base\")\n",
    "\n",
    "# audio_path = \"data/test/f57c791f-074f-4706-94ca-a9b4bcab7ce4.amr\"\n",
    "\n",
    "# # load audio and pad/trim it to fit 30 seconds\n",
    "# audio = whisper.load_audio(audio_path)\n",
    "# audio = whisper.pad_or_trim(audio)\n",
    "\n",
    "# # make log-Mel spectrogram and move to the same device as the model\n",
    "# mel = whisper.log_mel_spectrogram(audio).to(model.device)\n",
    "\n",
    "# # detect the spoken language\n",
    "# _, probs = model.detect_language(mel)\n",
    "# print(f\"Detected language: {max(probs, key=probs.get)}\")\n",
    "\n",
    "# # decode the audio\n",
    "# options = whisper.DecodingOptions()\n",
    "# result = whisper.decode(model, mel, options)\n",
    "\n",
    "# # print the recognized text\n",
    "# print(result.text)\n",
    "\n",
    "# def whisper_decode(path):\n",
    "#     # load audio and pad/trim it to fit 30 seconds\n",
    "#     audio = whisper.load_audio(path)\n",
    "#     audio = whisper.pad_or_trim(audio)\n",
    "\n",
    "#     # make log-Mel spectrogram and move to the same device as the model\n",
    "#     mel = whisper.log_mel_spectrogram(audio).to(model.device)\n",
    "\n",
    "#     # detect the spoken language\n",
    "#     _, probs = model.detect_language(mel)\n",
    "#     # print(f\"Detected language: {max(probs, key=probs.get)}\")\n",
    "\n",
    "#     # decode the audio\n",
    "#     options = whisper.DecodingOptions()\n",
    "#     result = whisper.decode(model, mel, options)\n",
    "\n",
    "#     # print the recognized text\n",
    "#     # print(result.text)\n",
    "    \n",
    "#     return {'text': result.text, 'language': max(probs, key=probs.get)}"
   ]
  },
  {
   "cell_type": "code",
   "execution_count": 2,
   "id": "61a0c44d-1ee2-4bab-8e3f-c3bcb9c28754",
   "metadata": {
    "tags": []
   },
   "outputs": [
    {
     "name": "stdout",
     "output_type": "stream",
     "text": [
      "['a8f51c60-5a4a-4765-aa79-638f76d2f9b2.amr', 'c40afd4e-dafb-40a5-8c6e-ce9283a33278.amr', '94a7e398-202d-4bcc-b991-81eced1c892f.amr', '19a69c77-0be3-49d5-8d0d-90fea3c7a1c4.amr', '7997ef05-06ce-4389-a915-c291782ae901.amr', '4a4115de-00b5-4cf9-b08b-f147d0ec9a75.amr', 'c124f9b4-38e1-4cee-8b41-49f57f069806.amr', '5aebf10f-21c0-438f-9b81-4be299508517.amr', 'f57c791f-074f-4706-94ca-a9b4bcab7ce4.amr', 'c539ea2b-dd7a-4358-b9f2-19545610c01b.amr', '17f3f07c-eca6-41d8-a3e4-9c0120595eb3.amr', '13717e94-e8ca-4d65-be27-ed97587c5057.amr', '6ae92f35-3139-417c-b0f4-d30ac25b3937.amr', '87666cfe-99e9-41c6-a750-52c5f1239b97.amr', '9670e5ad-3c33-444e-bba8-7c742f4ef7f8.amr', 'f3319895-e3e0-4cb9-a60a-4bda01beb448.amr', 'aba769fe-5f26-412b-8a5d-3d79f3ef6857.amr', '57ccf65f-b8ad-4b7e-a813-f303be7b0d10.amr', 'a03fa709-ce7b-42c0-b29f-4443e0e6c770.amr', 'c6d50f43-390b-4493-ab04-2f0bda10c83b.amr', '51ab811e-12a0-47b6-834d-939b8b4ec144.amr', '8ab13ab7-a573-4ac1-b1bf-0b229a19cca6.amr', '5c01bb8a-e3ca-4888-94d4-43c09fde089f.amr', '5102309c-8fb3-4232-b257-2bd8ed6ef53e.amr', 'aa143b3c-f3c1-498f-afbe-1a2519f1f39c.amr', 'd8ce1124-4858-42ac-8a20-30b0ee45746d.amr', '777b78f9-bb6f-47a4-a35b-fbb158ce166f.amr', '3b65f69e-5aea-4211-acaf-b7bb2f651755.amr', '6fa8bb3c-0bda-4b5f-81fe-743502313eed.amr', '8deb96cd-1939-46d0-8f87-5bd798ade923.amr', '2956c101-d82f-4f2c-8f1b-6119fa87694d.amr', '88c1d5dd-2f99-421a-b749-571be1f7d22f.amr', '28e34570-06da-4f0f-b645-5593d1438b12.amr', '02054808-f1b9-4d44-b47a-5fc742207e36.amr', '537b3036-950d-48b2-87c1-dee4af9f80c8.amr', 'c2bd0c26-d1d8-4eb5-bc6d-888e8a295593.amr', '09b311d8-c557-4bfb-bac5-f0d18a5da8e9.amr']\n"
     ]
    }
   ],
   "source": [
    "import os\n",
    "\n",
    "test_data_dir = \"data/test\"\n",
    "\n",
    "filenames = [filename for filename in os.listdir(test_data_dir) if filename.endswith('.amr')]\n",
    "print(filenames)"
   ]
  },
  {
   "cell_type": "code",
   "execution_count": 4,
   "id": "73a6975e-ad90-4948-af15-1af5b0d48c30",
   "metadata": {
    "tags": []
   },
   "outputs": [],
   "source": [
    "# import pandas as pd\n",
    "# from tqdm import tqdm\n",
    "\n",
    "# results = []\n",
    "\n",
    "# for filename in tqdm(filenames):\n",
    "#     result = whisper_decode(os.path.join(test_data_dir, filename))\n",
    "#     result['filename'] = filename\n",
    "#     results.append(result)\n",
    "\n",
    "# df_pred = pd.DataFrame(results)\n",
    "# df_pred.head()"
   ]
  },
  {
   "cell_type": "code",
   "execution_count": 5,
   "id": "5cdf3e7d-4c73-45ef-84e0-5664ab61344c",
   "metadata": {
    "tags": []
   },
   "outputs": [],
   "source": [
    "# df_true = pd.read_csv(\"./data/语料.csv\")\n",
    "\n",
    "# df_all = pd.merge(df_true, df_pred, left_on='record_file_id', right_on='filename')"
   ]
  },
  {
   "cell_type": "code",
   "execution_count": 6,
   "id": "95059892-4743-4410-9faf-f808350d9444",
   "metadata": {
    "tags": []
   },
   "outputs": [],
   "source": [
    "# df_all.head()"
   ]
  },
  {
   "cell_type": "code",
   "execution_count": 7,
   "id": "125a1f68-7ee9-445c-a658-0eb36b7afd1c",
   "metadata": {
    "tags": []
   },
   "outputs": [],
   "source": [
    "# df_all.to_csv(\"outputs/combined_results.csv\", index=False)"
   ]
  },
  {
   "cell_type": "markdown",
   "id": "52d4ff2b-59e7-4f1d-a14c-a8f9c5988cf1",
   "metadata": {},
   "source": [
    "# whisper large"
   ]
  },
  {
   "cell_type": "code",
   "execution_count": 8,
   "id": "443012da-a3b1-4a3e-ab3a-678dfba1f785",
   "metadata": {
    "tags": []
   },
   "outputs": [
    {
     "name": "stderr",
     "output_type": "stream",
     "text": [
      "/home/ec2-user/SageMaker/efs/conda_envs/whisper_py310/lib/python3.10/site-packages/tqdm/auto.py:21: TqdmWarning: IProgress not found. Please update jupyter and ipywidgets. See https://ipywidgets.readthedocs.io/en/stable/user_install.html\n",
      "  from .autonotebook import tqdm as notebook_tqdm\n"
     ]
    },
    {
     "name": "stdout",
     "output_type": "stream",
     "text": [
      "device: cuda:0\n"
     ]
    },
    {
     "name": "stderr",
     "output_type": "stream",
     "text": [
      "Special tokens have been added in the vocabulary, make sure the associated word embeddings are fine-tuned or trained.\n",
      "/home/ec2-user/SageMaker/efs/conda_envs/whisper_py310/lib/python3.10/site-packages/transformers/models/whisper/generation_whisper.py:480: FutureWarning: The input name `inputs` is deprecated. Please make sure to use `input_features` instead.\n",
      "  warnings.warn(\n",
      "Due to a bug fix in https://github.com/huggingface/transformers/pull/28687 transcription using a multilingual Whisper will default to language detection followed by transcription instead of translation to English.This might be a breaking change for your use case. If you want to instead always translate your audio to English, make sure to pass `language='en'`.\n"
     ]
    },
    {
     "name": "stdout",
     "output_type": "stream",
     "text": [
      "CMSRO20-DICR\n"
     ]
    }
   ],
   "source": [
    "import torch\n",
    "from transformers import AutoModelForSpeechSeq2Seq, AutoProcessor, pipeline\n",
    "from datasets import load_dataset\n",
    "\n",
    "\n",
    "device = \"cuda:0\" if torch.cuda.is_available() else \"cpu\"\n",
    "torch_dtype = torch.float16 if torch.cuda.is_available() else torch.float32\n",
    "print(f\"device: {device}\")\n",
    "\n",
    "model_id = \"/home/ec2-user/SageMaker/efs/Models/whisper-medium\"\n",
    "model_id = \"/home/ec2-user/SageMaker/efs/Models/whisper-large-v3\"\n",
    "\n",
    "model = AutoModelForSpeechSeq2Seq.from_pretrained(model_id, torch_dtype=torch_dtype, low_cpu_mem_usage=True, use_safetensors=True, use_flash_attention_2=True)\n",
    "\n",
    "model.to(device)\n",
    "\n",
    "processor = AutoProcessor.from_pretrained(model_id)\n",
    "\n",
    "pipe = pipeline(\n",
    "    \"automatic-speech-recognition\",\n",
    "    model=model,\n",
    "    tokenizer=processor.tokenizer,\n",
    "    feature_extractor=processor.feature_extractor,\n",
    "    max_new_tokens=128,\n",
    "    chunk_length_s=30,\n",
    "    batch_size=16,\n",
    "    return_timestamps=True,\n",
    "    torch_dtype=torch_dtype,\n",
    "    device=device,\n",
    ")\n",
    "\n",
    "sample = os.path.join(test_data_dir, filenames[0])\n",
    "\n",
    "result = pipe(sample)\n",
    "print(result[\"text\"])"
   ]
  },
  {
   "cell_type": "code",
   "execution_count": null,
   "id": "c56fe4fb-47fa-44bb-86e4-70e5f29fd4f5",
   "metadata": {},
   "outputs": [],
   "source": [
    "import pandas as pd\n",
    "from tqdm import tqdm\n",
    "import time\n",
    "\n",
    "results = []\n",
    "\n",
    "for filename in tqdm(filenames):\n",
    "    start_time = time.time()\n",
    "    result = pipe(os.path.join(test_data_dir, filename), generate_kwargs={\"language\": \"cantonese\"})\n",
    "    time_cost = time.time() - start_time\n",
    "    result['filename'] = filename\n",
    "    result['time_cost'] = round(time_cost, 2)\n",
    "    results.append(result)\n",
    "\n",
    "df_pred = pd.DataFrame(results)\n",
    "df_pred.head()"
   ]
  },
  {
   "cell_type": "code",
   "execution_count": null,
   "id": "e2259660-06bf-4976-9263-520ea70c0130",
   "metadata": {},
   "outputs": [],
   "source": [
    "## convert whisper-large-v3 to faster-whisper-large-v3\n",
    "\n",
    "# !ct2-transformers-converter --model openai/whisper-large-v3 --output_dir faster-whisper-large-v3 \\\n",
    "#     --copy_files tokenizer.json preprocessor_config.json --quantization float16"
   ]
  },
  {
   "cell_type": "markdown",
   "id": "49eeb6e2-7fa3-4902-8345-bfea82334c83",
   "metadata": {},
   "source": [
    "## faster_whisper_v3"
   ]
  },
  {
   "cell_type": "code",
   "execution_count": null,
   "id": "e8bfeaeb-3cd4-4f5f-ab4c-52985e9d2397",
   "metadata": {},
   "outputs": [],
   "source": [
    "from faster_whisper import WhisperModel\n",
    "\n",
    "model_id_faster =  \"/home/ec2-user/SageMaker/efs/Models/faster-whisper-large-v3\"\n",
    "model = WhisperModel(model_id_faster)\n",
    "\n",
    "segments, info = model.transcribe(sample, language=\"cantonese\")\n",
    "print(\"Detected language '%s' with probability %f\" % (info.language, info.language_probability))\n",
    "for segment in segments:\n",
    "    print(\"[%.2fs -> %.2fs] %s\" % (segment.start, segment.end, segment.text))\n",
    "    print()\n"
   ]
  },
  {
   "cell_type": "code",
   "execution_count": 27,
   "id": "136b0ab2-27b9-4657-9005-94e309c88c13",
   "metadata": {
    "tags": []
   },
   "outputs": [],
   "source": [
    "df_true = pd.read_csv(\"./data/语料.csv\")\n",
    "\n",
    "df_all = pd.merge(df_true, df_pred, left_on='record_file_id', right_on='filename')"
   ]
  },
  {
   "cell_type": "code",
   "execution_count": 28,
   "id": "5ee36f47-fffc-4a81-a633-5bb2ae60eecc",
   "metadata": {
    "scrolled": true,
    "tags": []
   },
   "outputs": [
    {
     "data": {
      "text/html": [
       "<div>\n",
       "<style scoped>\n",
       "    .dataframe tbody tr th:only-of-type {\n",
       "        vertical-align: middle;\n",
       "    }\n",
       "\n",
       "    .dataframe tbody tr th {\n",
       "        vertical-align: top;\n",
       "    }\n",
       "\n",
       "    .dataframe thead th {\n",
       "        text-align: right;\n",
       "    }\n",
       "</style>\n",
       "<table border=\"1\" class=\"dataframe\">\n",
       "  <thead>\n",
       "    <tr style=\"text-align: right;\">\n",
       "      <th></th>\n",
       "      <th>category_name</th>\n",
       "      <th>content</th>\n",
       "      <th>user_id</th>\n",
       "      <th>record_file_id</th>\n",
       "      <th>text</th>\n",
       "      <th>chunks</th>\n",
       "      <th>filename</th>\n",
       "    </tr>\n",
       "  </thead>\n",
       "  <tbody>\n",
       "    <tr>\n",
       "      <th>0</th>\n",
       "      <td>Model</td>\n",
       "      <td>CMSN 20 si</td>\n",
       "      <td>wuzy37</td>\n",
       "      <td>8deb96cd-1939-46d0-8f87-5bd798ade923.amr</td>\n",
       "      <td>新年快樂</td>\n",
       "      <td>[{'timestamp': (0.0, 3.1), 'text': ' 新年快樂'}]</td>\n",
       "      <td>8deb96cd-1939-46d0-8f87-5bd798ade923.amr</td>\n",
       "    </tr>\n",
       "    <tr>\n",
       "      <th>1</th>\n",
       "      <td>Model</td>\n",
       "      <td>CMSRO 20di cr</td>\n",
       "      <td>wuzy37</td>\n",
       "      <td>09b311d8-c557-4bfb-bac5-f0d18a5da8e9.amr</td>\n",
       "      <td>《天使的名字》</td>\n",
       "      <td>[{'timestamp': (0.0, 7.78), 'text': ' 《天使的名字》'}]</td>\n",
       "      <td>09b311d8-c557-4bfb-bac5-f0d18a5da8e9.amr</td>\n",
       "    </tr>\n",
       "    <tr>\n",
       "      <th>2</th>\n",
       "      <td>Model</td>\n",
       "      <td>CMSN 20 si</td>\n",
       "      <td>ex_xietian2</td>\n",
       "      <td>6ae92f35-3139-417c-b0f4-d30ac25b3937.amr</td>\n",
       "      <td>測試</td>\n",
       "      <td>[{'timestamp': (0.0, 0.96), 'text': ' 測試'}]</td>\n",
       "      <td>6ae92f35-3139-417c-b0f4-d30ac25b3937.amr</td>\n",
       "    </tr>\n",
       "    <tr>\n",
       "      <th>3</th>\n",
       "      <td>Model</td>\n",
       "      <td>CMSRO 20di cr</td>\n",
       "      <td>ex_xietian2</td>\n",
       "      <td>3b65f69e-5aea-4211-acaf-b7bb2f651755.amr</td>\n",
       "      <td>CNSRO20DICR</td>\n",
       "      <td>[{'timestamp': (0.0, 5.28), 'text': ' CNSRO20D...</td>\n",
       "      <td>3b65f69e-5aea-4211-acaf-b7bb2f651755.amr</td>\n",
       "    </tr>\n",
       "    <tr>\n",
       "      <th>4</th>\n",
       "      <td>Model</td>\n",
       "      <td>CMSRO 20di rd</td>\n",
       "      <td>ex_xietian2</td>\n",
       "      <td>c40afd4e-dafb-40a5-8c6e-ce9283a33278.amr</td>\n",
       "      <td>自動化測試CNNX-R5-20DR2D</td>\n",
       "      <td>[{'timestamp': (0.0, 4.94), 'text': ' 自動化測試CNN...</td>\n",
       "      <td>c40afd4e-dafb-40a5-8c6e-ce9283a33278.amr</td>\n",
       "    </tr>\n",
       "    <tr>\n",
       "      <th>5</th>\n",
       "      <td>Model</td>\n",
       "      <td>AF-52CS1TRHK(H)</td>\n",
       "      <td>ex_xietian2</td>\n",
       "      <td>8ab13ab7-a573-4ac1-b1bf-0b229a19cca6.amr</td>\n",
       "      <td>AF-52CSE TRH Key</td>\n",
       "      <td>[{'timestamp': (0.0, 5.66), 'text': ' AF-52CSE...</td>\n",
       "      <td>8ab13ab7-a573-4ac1-b1bf-0b229a19cca6.amr</td>\n",
       "    </tr>\n",
       "    <tr>\n",
       "      <th>6</th>\n",
       "      <td>Model</td>\n",
       "      <td>CMSN 20 si</td>\n",
       "      <td>yeungchimkuen</td>\n",
       "      <td>2956c101-d82f-4f2c-8f1b-6119fa87694d.amr</td>\n",
       "      <td>CMSN20SI</td>\n",
       "      <td>[{'timestamp': (0.0, 3.08), 'text': ' CMSN20SI'}]</td>\n",
       "      <td>2956c101-d82f-4f2c-8f1b-6119fa87694d.amr</td>\n",
       "    </tr>\n",
       "    <tr>\n",
       "      <th>7</th>\n",
       "      <td>Model</td>\n",
       "      <td>CMSRO 20di cr</td>\n",
       "      <td>yeungchimkuen</td>\n",
       "      <td>c124f9b4-38e1-4cee-8b41-49f57f069806.amr</td>\n",
       "      <td>CMSRO20DICR</td>\n",
       "      <td>[{'timestamp': (0.0, 4.08), 'text': ' CMSRO20D...</td>\n",
       "      <td>c124f9b4-38e1-4cee-8b41-49f57f069806.amr</td>\n",
       "    </tr>\n",
       "    <tr>\n",
       "      <th>8</th>\n",
       "      <td>Model</td>\n",
       "      <td>CMSRO 20di rd</td>\n",
       "      <td>yeungchimkuen</td>\n",
       "      <td>17f3f07c-eca6-41d8-a3e4-9c0120595eb3.amr</td>\n",
       "      <td>CMSRO20-DIRD</td>\n",
       "      <td>[{'timestamp': (0.0, 4.02), 'text': ' CMSRO20-...</td>\n",
       "      <td>17f3f07c-eca6-41d8-a3e4-9c0120595eb3.amr</td>\n",
       "    </tr>\n",
       "    <tr>\n",
       "      <th>9</th>\n",
       "      <td>Model</td>\n",
       "      <td>AF-52CS1TRHK(H)</td>\n",
       "      <td>yeungchimkuen</td>\n",
       "      <td>5102309c-8fb3-4232-b257-2bd8ed6ef53e.amr</td>\n",
       "      <td>AS-52CS1TRHKQH</td>\n",
       "      <td>[{'timestamp': (0.0, 6.06), 'text': ' AS-52CS1...</td>\n",
       "      <td>5102309c-8fb3-4232-b257-2bd8ed6ef53e.amr</td>\n",
       "    </tr>\n",
       "  </tbody>\n",
       "</table>\n",
       "</div>"
      ],
      "text/plain": [
       "  category_name          content        user_id  \\\n",
       "0         Model       CMSN 20 si         wuzy37   \n",
       "1         Model    CMSRO 20di cr         wuzy37   \n",
       "2         Model       CMSN 20 si    ex_xietian2   \n",
       "3         Model    CMSRO 20di cr    ex_xietian2   \n",
       "4         Model    CMSRO 20di rd    ex_xietian2   \n",
       "5         Model  AF-52CS1TRHK(H)    ex_xietian2   \n",
       "6         Model       CMSN 20 si  yeungchimkuen   \n",
       "7         Model    CMSRO 20di cr  yeungchimkuen   \n",
       "8         Model    CMSRO 20di rd  yeungchimkuen   \n",
       "9         Model  AF-52CS1TRHK(H)  yeungchimkuen   \n",
       "\n",
       "                             record_file_id                  text  \\\n",
       "0  8deb96cd-1939-46d0-8f87-5bd798ade923.amr                  新年快樂   \n",
       "1  09b311d8-c557-4bfb-bac5-f0d18a5da8e9.amr               《天使的名字》   \n",
       "2  6ae92f35-3139-417c-b0f4-d30ac25b3937.amr                    測試   \n",
       "3  3b65f69e-5aea-4211-acaf-b7bb2f651755.amr           CNSRO20DICR   \n",
       "4  c40afd4e-dafb-40a5-8c6e-ce9283a33278.amr   自動化測試CNNX-R5-20DR2D   \n",
       "5  8ab13ab7-a573-4ac1-b1bf-0b229a19cca6.amr      AF-52CSE TRH Key   \n",
       "6  2956c101-d82f-4f2c-8f1b-6119fa87694d.amr              CMSN20SI   \n",
       "7  c124f9b4-38e1-4cee-8b41-49f57f069806.amr           CMSRO20DICR   \n",
       "8  17f3f07c-eca6-41d8-a3e4-9c0120595eb3.amr          CMSRO20-DIRD   \n",
       "9  5102309c-8fb3-4232-b257-2bd8ed6ef53e.amr        AS-52CS1TRHKQH   \n",
       "\n",
       "                                              chunks  \\\n",
       "0       [{'timestamp': (0.0, 3.1), 'text': ' 新年快樂'}]   \n",
       "1   [{'timestamp': (0.0, 7.78), 'text': ' 《天使的名字》'}]   \n",
       "2        [{'timestamp': (0.0, 0.96), 'text': ' 測試'}]   \n",
       "3  [{'timestamp': (0.0, 5.28), 'text': ' CNSRO20D...   \n",
       "4  [{'timestamp': (0.0, 4.94), 'text': ' 自動化測試CNN...   \n",
       "5  [{'timestamp': (0.0, 5.66), 'text': ' AF-52CSE...   \n",
       "6  [{'timestamp': (0.0, 3.08), 'text': ' CMSN20SI'}]   \n",
       "7  [{'timestamp': (0.0, 4.08), 'text': ' CMSRO20D...   \n",
       "8  [{'timestamp': (0.0, 4.02), 'text': ' CMSRO20-...   \n",
       "9  [{'timestamp': (0.0, 6.06), 'text': ' AS-52CS1...   \n",
       "\n",
       "                                   filename  \n",
       "0  8deb96cd-1939-46d0-8f87-5bd798ade923.amr  \n",
       "1  09b311d8-c557-4bfb-bac5-f0d18a5da8e9.amr  \n",
       "2  6ae92f35-3139-417c-b0f4-d30ac25b3937.amr  \n",
       "3  3b65f69e-5aea-4211-acaf-b7bb2f651755.amr  \n",
       "4  c40afd4e-dafb-40a5-8c6e-ce9283a33278.amr  \n",
       "5  8ab13ab7-a573-4ac1-b1bf-0b229a19cca6.amr  \n",
       "6  2956c101-d82f-4f2c-8f1b-6119fa87694d.amr  \n",
       "7  c124f9b4-38e1-4cee-8b41-49f57f069806.amr  \n",
       "8  17f3f07c-eca6-41d8-a3e4-9c0120595eb3.amr  \n",
       "9  5102309c-8fb3-4232-b257-2bd8ed6ef53e.amr  "
      ]
     },
     "execution_count": 28,
     "metadata": {},
     "output_type": "execute_result"
    }
   ],
   "source": [
    "df_all.head(10)"
   ]
  },
  {
   "cell_type": "markdown",
   "id": "e420934a-8544-480c-a0bc-e49e419e690f",
   "metadata": {},
   "source": [
    "# Calculate Character Error Rate (WER)"
   ]
  },
  {
   "cell_type": "code",
   "execution_count": 41,
   "id": "a717b511-0e7b-4d47-8afd-ea7da999c6cb",
   "metadata": {
    "tags": []
   },
   "outputs": [],
   "source": [
    "import re\n",
    "\n",
    "class ChineseTextNormalizer:\n",
    "    def __init__(self, split_letters: bool = False):\n",
    "\n",
    "        self.split_letters = split_letters\n",
    "\n",
    "    def __call__(self, s: str):\n",
    "        s = s.lower()\n",
    "        # s = re.sub(r\"[<\\[][^>\\]]*[>\\]]\", \"\", s)  # remove words between brackets\n",
    "        # s = re.sub(r\"\\(([^)]+?)\\)\", \"\", s)  # remove words between parenthesis\n",
    "        # s = self.clean(s).lower()\n",
    "\n",
    "        # if self.split_letters:\n",
    "        #     s = \" \".join(regex.findall(r\"\\X\", s, regex.U))\n",
    "\n",
    "        s = re.sub(\n",
    "            r\"\\s+\", \"\", s\n",
    "        )  # remove any successive whitespace characters\n",
    "        \n",
    "        return s"
   ]
  },
  {
   "cell_type": "code",
   "execution_count": 42,
   "id": "00926c9f-1233-41fd-8bb2-7aa6d193d7e0",
   "metadata": {
    "tags": []
   },
   "outputs": [],
   "source": [
    "import jiwer\n",
    "from whisper.normalizers import BasicTextNormalizer, EnglishTextNormalizer\n",
    "\n",
    "# normalizer = EnglishTextNormalizer()\n",
    "# normalizer = BasicTextNormalizer()\n",
    "normalizer = ChineseTextNormalizer()"
   ]
  },
  {
   "cell_type": "code",
   "execution_count": 43,
   "id": "a9f6cc71-1cbc-45de-b333-0ccf15377554",
   "metadata": {
    "tags": []
   },
   "outputs": [
    {
     "name": "stderr",
     "output_type": "stream",
     "text": [
      "100%|██████████| 37/37 [00:00<00:00, 3047.17it/s]\n"
     ]
    },
    {
     "data": {
      "text/html": [
       "<div>\n",
       "<style scoped>\n",
       "    .dataframe tbody tr th:only-of-type {\n",
       "        vertical-align: middle;\n",
       "    }\n",
       "\n",
       "    .dataframe tbody tr th {\n",
       "        vertical-align: top;\n",
       "    }\n",
       "\n",
       "    .dataframe thead th {\n",
       "        text-align: right;\n",
       "    }\n",
       "</style>\n",
       "<table border=\"1\" class=\"dataframe\">\n",
       "  <thead>\n",
       "    <tr style=\"text-align: right;\">\n",
       "      <th></th>\n",
       "      <th>category_name</th>\n",
       "      <th>user_id</th>\n",
       "      <th>content</th>\n",
       "      <th>normalized_content</th>\n",
       "      <th>text</th>\n",
       "      <th>normalized_text</th>\n",
       "      <th>record_file_id</th>\n",
       "      <th>chunks</th>\n",
       "      <th>filename</th>\n",
       "    </tr>\n",
       "  </thead>\n",
       "  <tbody>\n",
       "    <tr>\n",
       "      <th>0</th>\n",
       "      <td>Model</td>\n",
       "      <td>wuzy37</td>\n",
       "      <td>CMSN 20 si</td>\n",
       "      <td>cmsn20si</td>\n",
       "      <td>新年快樂</td>\n",
       "      <td>新年快樂</td>\n",
       "      <td>8deb96cd-1939-46d0-8f87-5bd798ade923.amr</td>\n",
       "      <td>[{'timestamp': (0.0, 3.1), 'text': ' 新年快樂'}]</td>\n",
       "      <td>8deb96cd-1939-46d0-8f87-5bd798ade923.amr</td>\n",
       "    </tr>\n",
       "    <tr>\n",
       "      <th>1</th>\n",
       "      <td>Model</td>\n",
       "      <td>wuzy37</td>\n",
       "      <td>CMSRO 20di cr</td>\n",
       "      <td>cmsro20dicr</td>\n",
       "      <td>《天使的名字》</td>\n",
       "      <td>《天使的名字》</td>\n",
       "      <td>09b311d8-c557-4bfb-bac5-f0d18a5da8e9.amr</td>\n",
       "      <td>[{'timestamp': (0.0, 7.78), 'text': ' 《天使的名字》'}]</td>\n",
       "      <td>09b311d8-c557-4bfb-bac5-f0d18a5da8e9.amr</td>\n",
       "    </tr>\n",
       "    <tr>\n",
       "      <th>2</th>\n",
       "      <td>Model</td>\n",
       "      <td>ex_xietian2</td>\n",
       "      <td>CMSN 20 si</td>\n",
       "      <td>cmsn20si</td>\n",
       "      <td>測試</td>\n",
       "      <td>測試</td>\n",
       "      <td>6ae92f35-3139-417c-b0f4-d30ac25b3937.amr</td>\n",
       "      <td>[{'timestamp': (0.0, 0.96), 'text': ' 測試'}]</td>\n",
       "      <td>6ae92f35-3139-417c-b0f4-d30ac25b3937.amr</td>\n",
       "    </tr>\n",
       "    <tr>\n",
       "      <th>3</th>\n",
       "      <td>Model</td>\n",
       "      <td>ex_xietian2</td>\n",
       "      <td>CMSRO 20di cr</td>\n",
       "      <td>cmsro20dicr</td>\n",
       "      <td>CNSRO20DICR</td>\n",
       "      <td>cnsro20dicr</td>\n",
       "      <td>3b65f69e-5aea-4211-acaf-b7bb2f651755.amr</td>\n",
       "      <td>[{'timestamp': (0.0, 5.28), 'text': ' CNSRO20D...</td>\n",
       "      <td>3b65f69e-5aea-4211-acaf-b7bb2f651755.amr</td>\n",
       "    </tr>\n",
       "    <tr>\n",
       "      <th>4</th>\n",
       "      <td>Model</td>\n",
       "      <td>ex_xietian2</td>\n",
       "      <td>CMSRO 20di rd</td>\n",
       "      <td>cmsro20dird</td>\n",
       "      <td>自動化測試CNNX-R5-20DR2D</td>\n",
       "      <td>自動化測試cnnx-r5-20dr2d</td>\n",
       "      <td>c40afd4e-dafb-40a5-8c6e-ce9283a33278.amr</td>\n",
       "      <td>[{'timestamp': (0.0, 4.94), 'text': ' 自動化測試CNN...</td>\n",
       "      <td>c40afd4e-dafb-40a5-8c6e-ce9283a33278.amr</td>\n",
       "    </tr>\n",
       "    <tr>\n",
       "      <th>5</th>\n",
       "      <td>Model</td>\n",
       "      <td>ex_xietian2</td>\n",
       "      <td>AF-52CS1TRHK(H)</td>\n",
       "      <td>af-52cs1trhk(h)</td>\n",
       "      <td>AF-52CSE TRH Key</td>\n",
       "      <td>af-52csetrhkey</td>\n",
       "      <td>8ab13ab7-a573-4ac1-b1bf-0b229a19cca6.amr</td>\n",
       "      <td>[{'timestamp': (0.0, 5.66), 'text': ' AF-52CSE...</td>\n",
       "      <td>8ab13ab7-a573-4ac1-b1bf-0b229a19cca6.amr</td>\n",
       "    </tr>\n",
       "    <tr>\n",
       "      <th>6</th>\n",
       "      <td>Model</td>\n",
       "      <td>yeungchimkuen</td>\n",
       "      <td>CMSN 20 si</td>\n",
       "      <td>cmsn20si</td>\n",
       "      <td>CMSN20SI</td>\n",
       "      <td>cmsn20si</td>\n",
       "      <td>2956c101-d82f-4f2c-8f1b-6119fa87694d.amr</td>\n",
       "      <td>[{'timestamp': (0.0, 3.08), 'text': ' CMSN20SI'}]</td>\n",
       "      <td>2956c101-d82f-4f2c-8f1b-6119fa87694d.amr</td>\n",
       "    </tr>\n",
       "    <tr>\n",
       "      <th>7</th>\n",
       "      <td>Model</td>\n",
       "      <td>yeungchimkuen</td>\n",
       "      <td>CMSRO 20di cr</td>\n",
       "      <td>cmsro20dicr</td>\n",
       "      <td>CMSRO20DICR</td>\n",
       "      <td>cmsro20dicr</td>\n",
       "      <td>c124f9b4-38e1-4cee-8b41-49f57f069806.amr</td>\n",
       "      <td>[{'timestamp': (0.0, 4.08), 'text': ' CMSRO20D...</td>\n",
       "      <td>c124f9b4-38e1-4cee-8b41-49f57f069806.amr</td>\n",
       "    </tr>\n",
       "    <tr>\n",
       "      <th>8</th>\n",
       "      <td>Model</td>\n",
       "      <td>yeungchimkuen</td>\n",
       "      <td>CMSRO 20di rd</td>\n",
       "      <td>cmsro20dird</td>\n",
       "      <td>CMSRO20-DIRD</td>\n",
       "      <td>cmsro20-dird</td>\n",
       "      <td>17f3f07c-eca6-41d8-a3e4-9c0120595eb3.amr</td>\n",
       "      <td>[{'timestamp': (0.0, 4.02), 'text': ' CMSRO20-...</td>\n",
       "      <td>17f3f07c-eca6-41d8-a3e4-9c0120595eb3.amr</td>\n",
       "    </tr>\n",
       "    <tr>\n",
       "      <th>9</th>\n",
       "      <td>Model</td>\n",
       "      <td>yeungchimkuen</td>\n",
       "      <td>AF-52CS1TRHK(H)</td>\n",
       "      <td>af-52cs1trhk(h)</td>\n",
       "      <td>AS-52CS1TRHKQH</td>\n",
       "      <td>as-52cs1trhkqh</td>\n",
       "      <td>5102309c-8fb3-4232-b257-2bd8ed6ef53e.amr</td>\n",
       "      <td>[{'timestamp': (0.0, 6.06), 'text': ' AS-52CS1...</td>\n",
       "      <td>5102309c-8fb3-4232-b257-2bd8ed6ef53e.amr</td>\n",
       "    </tr>\n",
       "  </tbody>\n",
       "</table>\n",
       "</div>"
      ],
      "text/plain": [
       "  category_name        user_id          content normalized_content  \\\n",
       "0         Model         wuzy37       CMSN 20 si           cmsn20si   \n",
       "1         Model         wuzy37    CMSRO 20di cr        cmsro20dicr   \n",
       "2         Model    ex_xietian2       CMSN 20 si           cmsn20si   \n",
       "3         Model    ex_xietian2    CMSRO 20di cr        cmsro20dicr   \n",
       "4         Model    ex_xietian2    CMSRO 20di rd        cmsro20dird   \n",
       "5         Model    ex_xietian2  AF-52CS1TRHK(H)    af-52cs1trhk(h)   \n",
       "6         Model  yeungchimkuen       CMSN 20 si           cmsn20si   \n",
       "7         Model  yeungchimkuen    CMSRO 20di cr        cmsro20dicr   \n",
       "8         Model  yeungchimkuen    CMSRO 20di rd        cmsro20dird   \n",
       "9         Model  yeungchimkuen  AF-52CS1TRHK(H)    af-52cs1trhk(h)   \n",
       "\n",
       "                   text      normalized_text  \\\n",
       "0                  新年快樂                 新年快樂   \n",
       "1               《天使的名字》              《天使的名字》   \n",
       "2                    測試                   測試   \n",
       "3           CNSRO20DICR          cnsro20dicr   \n",
       "4   自動化測試CNNX-R5-20DR2D  自動化測試cnnx-r5-20dr2d   \n",
       "5      AF-52CSE TRH Key       af-52csetrhkey   \n",
       "6              CMSN20SI             cmsn20si   \n",
       "7           CMSRO20DICR          cmsro20dicr   \n",
       "8          CMSRO20-DIRD         cmsro20-dird   \n",
       "9        AS-52CS1TRHKQH       as-52cs1trhkqh   \n",
       "\n",
       "                             record_file_id  \\\n",
       "0  8deb96cd-1939-46d0-8f87-5bd798ade923.amr   \n",
       "1  09b311d8-c557-4bfb-bac5-f0d18a5da8e9.amr   \n",
       "2  6ae92f35-3139-417c-b0f4-d30ac25b3937.amr   \n",
       "3  3b65f69e-5aea-4211-acaf-b7bb2f651755.amr   \n",
       "4  c40afd4e-dafb-40a5-8c6e-ce9283a33278.amr   \n",
       "5  8ab13ab7-a573-4ac1-b1bf-0b229a19cca6.amr   \n",
       "6  2956c101-d82f-4f2c-8f1b-6119fa87694d.amr   \n",
       "7  c124f9b4-38e1-4cee-8b41-49f57f069806.amr   \n",
       "8  17f3f07c-eca6-41d8-a3e4-9c0120595eb3.amr   \n",
       "9  5102309c-8fb3-4232-b257-2bd8ed6ef53e.amr   \n",
       "\n",
       "                                              chunks  \\\n",
       "0       [{'timestamp': (0.0, 3.1), 'text': ' 新年快樂'}]   \n",
       "1   [{'timestamp': (0.0, 7.78), 'text': ' 《天使的名字》'}]   \n",
       "2        [{'timestamp': (0.0, 0.96), 'text': ' 測試'}]   \n",
       "3  [{'timestamp': (0.0, 5.28), 'text': ' CNSRO20D...   \n",
       "4  [{'timestamp': (0.0, 4.94), 'text': ' 自動化測試CNN...   \n",
       "5  [{'timestamp': (0.0, 5.66), 'text': ' AF-52CSE...   \n",
       "6  [{'timestamp': (0.0, 3.08), 'text': ' CMSN20SI'}]   \n",
       "7  [{'timestamp': (0.0, 4.08), 'text': ' CMSRO20D...   \n",
       "8  [{'timestamp': (0.0, 4.02), 'text': ' CMSRO20-...   \n",
       "9  [{'timestamp': (0.0, 6.06), 'text': ' AS-52CS1...   \n",
       "\n",
       "                                   filename  \n",
       "0  8deb96cd-1939-46d0-8f87-5bd798ade923.amr  \n",
       "1  09b311d8-c557-4bfb-bac5-f0d18a5da8e9.amr  \n",
       "2  6ae92f35-3139-417c-b0f4-d30ac25b3937.amr  \n",
       "3  3b65f69e-5aea-4211-acaf-b7bb2f651755.amr  \n",
       "4  c40afd4e-dafb-40a5-8c6e-ce9283a33278.amr  \n",
       "5  8ab13ab7-a573-4ac1-b1bf-0b229a19cca6.amr  \n",
       "6  2956c101-d82f-4f2c-8f1b-6119fa87694d.amr  \n",
       "7  c124f9b4-38e1-4cee-8b41-49f57f069806.amr  \n",
       "8  17f3f07c-eca6-41d8-a3e4-9c0120595eb3.amr  \n",
       "9  5102309c-8fb3-4232-b257-2bd8ed6ef53e.amr  "
      ]
     },
     "execution_count": 43,
     "metadata": {},
     "output_type": "execute_result"
    }
   ],
   "source": [
    "for i, row in tqdm(df_all.iterrows(), total=df_all.shape[0]):\n",
    "    \n",
    "    normalized_content = normalizer(row['content'])\n",
    "    normalized_text = normalizer(row['text'])\n",
    "    \n",
    "    df_all.loc[i, 'normalized_content'] = normalized_content\n",
    "    df_all.loc[i, 'normalized_text'] = normalized_text\n",
    "\n",
    "new_columns = ['category_name', 'user_id', 'content', 'normalized_content', 'text', 'normalized_text', 'record_file_id', 'chunks', 'filename']\n",
    "df_all = df_all[new_columns]\n",
    "df_all.head(10)"
   ]
  },
  {
   "cell_type": "code",
   "execution_count": 45,
   "id": "9d13c419-3e1f-431d-a0f3-40c5af292c61",
   "metadata": {
    "tags": []
   },
   "outputs": [
    {
     "name": "stdout",
     "output_type": "stream",
     "text": [
      "CER: 27.94 %\n"
     ]
    }
   ],
   "source": [
    "cer = jiwer.cer(list(df_all[\"normalized_content\"]), list(df_all[\"normalized_text\"]))\n",
    "\n",
    "print(f\"CER: {cer * 100:.2f} %\")"
   ]
  },
  {
   "cell_type": "code",
   "execution_count": null,
   "id": "887c0922-12d0-4d6c-847f-6bd0f1acc5ac",
   "metadata": {},
   "outputs": [],
   "source": []
  }
 ],
 "metadata": {
  "kernelspec": {
   "display_name": "conda_whisper_py310",
   "language": "python",
   "name": "conda_whisper_py310"
  },
  "language_info": {
   "codemirror_mode": {
    "name": "ipython",
    "version": 3
   },
   "file_extension": ".py",
   "mimetype": "text/x-python",
   "name": "python",
   "nbconvert_exporter": "python",
   "pygments_lexer": "ipython3",
   "version": "3.10.14"
  }
 },
 "nbformat": 4,
 "nbformat_minor": 5
}
