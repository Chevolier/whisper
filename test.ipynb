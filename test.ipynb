{
 "cells": [
  {
   "cell_type": "code",
   "execution_count": 1,
   "id": "b3074ad7-e2ed-4e4a-a562-96e6c2b787d3",
   "metadata": {
    "tags": []
   },
   "outputs": [],
   "source": [
    "import warnings\n",
    "warnings.filterwarnings('ignore')"
   ]
  },
  {
   "cell_type": "markdown",
   "id": "90357cea-7c91-4671-bb80-ba7a2a651c81",
   "metadata": {},
   "source": [
    "# Test whisper models"
   ]
  },
  {
   "cell_type": "code",
   "execution_count": 2,
   "id": "2db7829c-5e0a-441b-9571-9c2d099f9f76",
   "metadata": {
    "tags": []
   },
   "outputs": [
    {
     "name": "stdout",
     "output_type": "stream",
     "text": [
      "device: cuda:0\n"
     ]
    }
   ],
   "source": [
    "import os\n",
    "import torch\n",
    "from datasets import load_dataset\n",
    "from transformers import AutoModelForSpeechSeq2Seq, AutoProcessor, pipeline\n",
    "\n",
    "device = \"cuda:0\" if torch.cuda.is_available() else \"cpu\"\n",
    "torch_dtype = torch.float16 if torch.cuda.is_available() else torch.float32\n",
    "print(f\"device: {device}\")\n",
    "\n",
    "def initialize_pipe(model, model_path):\n",
    "    \n",
    "    # model = AutoModelForSpeechSeq2Seq.from_pretrained(model_id, torch_dtype=torch_dtype, low_cpu_mem_usage=True, use_safetensors=True, attn_implementation=\"flash_attention_2\") # use_flash_attention_2=True) # \n",
    "    # model.to(device)\n",
    "\n",
    "    if hasattr(model.generation_config, \"no_timestamps_token_id\"):\n",
    "        return_timestamps = True\n",
    "    else:\n",
    "        return_timestamps = False\n",
    "        \n",
    "    processor = AutoProcessor.from_pretrained(model_path)\n",
    "\n",
    "    pipe = pipeline(\n",
    "        \"automatic-speech-recognition\",\n",
    "        model=model,\n",
    "        tokenizer=processor.tokenizer,\n",
    "        feature_extractor=processor.feature_extractor,\n",
    "        max_new_tokens=128,\n",
    "        chunk_length_s=30,\n",
    "        batch_size=16,\n",
    "        return_timestamps=return_timestamps,\n",
    "        torch_dtype=torch_dtype,\n",
    "        device=device,\n",
    "    )\n",
    "    \n",
    "    return pipe"
   ]
  },
  {
   "cell_type": "markdown",
   "id": "0363e798-def4-4e24-8f8b-433b56afa8d9",
   "metadata": {},
   "source": [
    "# Test and compare different versions"
   ]
  },
  {
   "cell_type": "markdown",
   "id": "06ca574c-e654-460d-9efd-805be6518856",
   "metadata": {},
   "source": [
    "## Common voice 17.0, zh-HK"
   ]
  },
  {
   "cell_type": "code",
   "execution_count": null,
   "id": "c1030fb1-efeb-48f0-8881-1e50916f82d9",
   "metadata": {
    "tags": []
   },
   "outputs": [],
   "source": [
    "# import os\n",
    "# import pandas as pd\n",
    "\n",
    "# dataset_name = \"common_voice\"\n",
    "\n",
    "# test_data_dir = \"data/cv-corpus-17.0-2024-03-15/zh-HK/clips\"\n",
    "# test_data_path = \"data/cv-corpus-17.0-2024-03-15/zh-HK/test.tsv\"\n",
    "\n",
    "# df = pd.read_csv(test_data_path, sep='\\t')\n",
    "# print(df.shape)\n",
    "# df.head()\n",
    "\n",
    "# num_test = 1000\n",
    "\n",
    "# df.rename(columns={\"path\": \"file_id\", \"sentence\": \"true\"}, inplace=True)\n",
    "# df = df[:num_test]\n",
    "# df.head()"
   ]
  },
  {
   "cell_type": "markdown",
   "id": "ef061be3-aeb6-4a2e-9cb1-dc20aa350349",
   "metadata": {},
   "source": [
    "## midea data"
   ]
  },
  {
   "cell_type": "code",
   "execution_count": null,
   "id": "af4a2c2b-9d55-4068-a01b-eb96767762d6",
   "metadata": {
    "tags": []
   },
   "outputs": [],
   "source": [
    "# import pandas as pd\n",
    "# dataset_name = 'midea_500'\n",
    "# # test_data_dir = \"data/midea_data_500/clips\"\n",
    "# # test_data_dir = \"data/midea_data_500/amrs\"\n",
    "# test_data_dir = \"data/midea_data_500/wavs\"\n",
    "\n",
    "# df = pd.read_csv(\"./data/midea_data_500/transcripts.csv\")\n",
    "# df.rename(columns={\"sentence\": \"true\"}, inplace=True)\n",
    "# # df['file_id'] = df['file_id'].apply(lambda x: x.replace('.mp3', '.amr'))\n",
    "# df.head()"
   ]
  },
  {
   "cell_type": "markdown",
   "id": "172751b2-8f69-4072-bb42-79d8f7be8187",
   "metadata": {},
   "source": [
    "# custom_data_v0"
   ]
  },
  {
   "cell_type": "code",
   "execution_count": null,
   "id": "e45a1968-0570-4a21-8019-f056db4342d7",
   "metadata": {},
   "outputs": [],
   "source": [
    "# import pandas as pd\n",
    "\n",
    "# dataset_name = 'custom_v0'\n",
    "# test_data_dir = \"data/custom_data_v0/test\"\n",
    "\n",
    "# with open(os.path.join(test_data_dir, 'audio_paths')) as fo:\n",
    "#     audio_paths = fo.readlines()\n",
    "    \n",
    "# with open(os.path.join(test_data_dir, 'text')) as fo:\n",
    "#     texts = fo.readlines()\n",
    "    \n",
    "# print(audio_paths[:5])\n",
    "# print(texts[:5])\n",
    "\n",
    "# start_id = 0\n",
    "# df = pd.DataFrame([[text.strip().split()[0], \" \".join(text.strip().split()[1:])] for text in texts[start_id:]], columns=['idx', 'true'])\n",
    "# df.head()\n",
    "\n",
    "# df_path = pd.DataFrame([path.strip().split() for path in audio_paths[start_id:]], columns=['idx', 'file_id'])\n",
    "# df_path.head()\n",
    "\n",
    "# df = pd.merge(df, df_path, on='idx')\n",
    "# df.head()"
   ]
  },
  {
   "cell_type": "markdown",
   "id": "47e794e1-3a5a-4894-bac2-a108544f2516",
   "metadata": {},
   "source": [
    "# test_20240816"
   ]
  },
  {
   "cell_type": "code",
   "execution_count": 13,
   "id": "f18e02c3-5095-4732-aac8-68e4d211b9a7",
   "metadata": {},
   "outputs": [
    {
     "data": {
      "text/html": [
       "<div>\n",
       "<style scoped>\n",
       "    .dataframe tbody tr th:only-of-type {\n",
       "        vertical-align: middle;\n",
       "    }\n",
       "\n",
       "    .dataframe tbody tr th {\n",
       "        vertical-align: top;\n",
       "    }\n",
       "\n",
       "    .dataframe thead th {\n",
       "        text-align: right;\n",
       "    }\n",
       "</style>\n",
       "<table border=\"1\" class=\"dataframe\">\n",
       "  <thead>\n",
       "    <tr style=\"text-align: right;\">\n",
       "      <th></th>\n",
       "      <th>contact_id</th>\n",
       "      <th>content</th>\n",
       "      <th>extracted_content</th>\n",
       "    </tr>\n",
       "  </thead>\n",
       "  <tbody>\n",
       "    <tr>\n",
       "      <th>0</th>\n",
       "      <td>0c6c1fda-105d-43aa-bb5d-25486b3ed249</td>\n",
       "      <td>customer:可疑唔該做呀\\nagent:喂你好門\\nagent:喂你好門公司服務部係唔...</td>\n",
       "      <td>_______query_SR__costTime:68542ms;{\"statusCode...</td>\n",
       "    </tr>\n",
       "    <tr>\n",
       "      <th>1</th>\n",
       "      <td>18522785-539a-4594-9ac6-1062d0f686a2</td>\n",
       "      <td>agent:好,公司合作,你幫\\ncustomer:係咪東支嗰邊呀\\nagent:無錯,有咩...</td>\n",
       "      <td>_______query_SR__costTime:15592ms;{\"statusCode...</td>\n",
       "    </tr>\n",
       "    <tr>\n",
       "      <th>2</th>\n",
       "      <td>4028279d-fe0d-4898-a079-4a63e1cc16c2</td>\n",
       "      <td>agent:早晨通知服務鋪外出糧請買咩幫你�哎�\\ncustomer:我姓楊㗎\\ncusto...</td>\n",
       "      <td>_______query_SR__costTime:8293ms;{\"statusCode\"...</td>\n",
       "    </tr>\n",
       "    <tr>\n",
       "      <th>3</th>\n",
       "      <td>930224b6-17d3-4e8f-9da3-9878da6f9a10</td>\n",
       "      <td>agent:回到你\\nagent:你好\\ncustomer:喂你好呀我之前\\nagent:係...</td>\n",
       "      <td>_______query_SR__costTime:6647ms;{\"statusCode\"...</td>\n",
       "    </tr>\n",
       "    <tr>\n",
       "      <th>4</th>\n",
       "      <td>1933fbf7-e0c0-4d50-abe7-d5e137545ee6</td>\n",
       "      <td>agent:早晨�早晨�總之復活部�我姓梁�請問咩幫你�\\ncustomer:你好我想預約呢...</td>\n",
       "      <td>_______query_SR__costTime:6899ms;{\"statusCode\"...</td>\n",
       "    </tr>\n",
       "  </tbody>\n",
       "</table>\n",
       "</div>"
      ],
      "text/plain": [
       "                             contact_id  \\\n",
       "0  0c6c1fda-105d-43aa-bb5d-25486b3ed249   \n",
       "1  18522785-539a-4594-9ac6-1062d0f686a2   \n",
       "2  4028279d-fe0d-4898-a079-4a63e1cc16c2   \n",
       "3  930224b6-17d3-4e8f-9da3-9878da6f9a10   \n",
       "4  1933fbf7-e0c0-4d50-abe7-d5e137545ee6   \n",
       "\n",
       "                                             content  \\\n",
       "0  customer:可疑唔該做呀\\nagent:喂你好門\\nagent:喂你好門公司服務部係唔...   \n",
       "1  agent:好,公司合作,你幫\\ncustomer:係咪東支嗰邊呀\\nagent:無錯,有咩...   \n",
       "2  agent:早晨通知服務鋪外出糧請買咩幫你�哎�\\ncustomer:我姓楊㗎\\ncusto...   \n",
       "3  agent:回到你\\nagent:你好\\ncustomer:喂你好呀我之前\\nagent:係...   \n",
       "4  agent:早晨�早晨�總之復活部�我姓梁�請問咩幫你�\\ncustomer:你好我想預約呢...   \n",
       "\n",
       "                                   extracted_content  \n",
       "0  _______query_SR__costTime:68542ms;{\"statusCode...  \n",
       "1  _______query_SR__costTime:15592ms;{\"statusCode...  \n",
       "2  _______query_SR__costTime:8293ms;{\"statusCode\"...  \n",
       "3  _______query_SR__costTime:6647ms;{\"statusCode\"...  \n",
       "4  _______query_SR__costTime:6899ms;{\"statusCode\"...  "
      ]
     },
     "execution_count": 13,
     "metadata": {},
     "output_type": "execute_result"
    }
   ],
   "source": [
    "import pandas as pd\n",
    "\n",
    "dataset_name = 'test_0816'\n",
    "test_path = \"data/test_0816/ai辅助填单数据/模型返回的内容.csv\"\n",
    "wav_dir = \"data/test_0816/ai辅助填单数据/录音文件\"\n",
    "\n",
    "df = pd.read_csv(test_path)\n",
    "# start_id = 0\n",
    "# df = pd.DataFrame([[text.strip().split()[0], \" \".join(text.strip().split()[1:])] for text in texts[start_id:]], columns=['idx', 'true'])\n",
    "# df.head()\n",
    "\n",
    "# df_path = pd.DataFrame([path.strip().split() for path in audio_paths[start_id:]], columns=['idx', 'file_id'])\n",
    "# df_path.head()\n",
    "\n",
    "# df = pd.merge(df, df_path, on='idx')\n",
    "df.head()"
   ]
  },
  {
   "cell_type": "markdown",
   "id": "d42fbc91-cdd4-4831-963e-27a2d7a69d77",
   "metadata": {},
   "source": [
    "## chunk 10s"
   ]
  },
  {
   "cell_type": "code",
   "execution_count": 26,
   "id": "5536de09-b9eb-4737-945f-e9947ef2585e",
   "metadata": {
    "tags": []
   },
   "outputs": [
    {
     "data": {
      "text/html": [
       "<div>\n",
       "<style scoped>\n",
       "    .dataframe tbody tr th:only-of-type {\n",
       "        vertical-align: middle;\n",
       "    }\n",
       "\n",
       "    .dataframe tbody tr th {\n",
       "        vertical-align: top;\n",
       "    }\n",
       "\n",
       "    .dataframe thead th {\n",
       "        text-align: right;\n",
       "    }\n",
       "</style>\n",
       "<table border=\"1\" class=\"dataframe\">\n",
       "  <thead>\n",
       "    <tr style=\"text-align: right;\">\n",
       "      <th></th>\n",
       "      <th>contact_id</th>\n",
       "    </tr>\n",
       "  </thead>\n",
       "  <tbody>\n",
       "    <tr>\n",
       "      <th>0</th>\n",
       "      <td>data/test_0816/short_10s/04d9e7e2-b06d-48de-8a...</td>\n",
       "    </tr>\n",
       "    <tr>\n",
       "      <th>1</th>\n",
       "      <td>data/test_0816/short_10s/04d9e7e2-b06d-48de-8a...</td>\n",
       "    </tr>\n",
       "    <tr>\n",
       "      <th>2</th>\n",
       "      <td>data/test_0816/short_10s/04d9e7e2-b06d-48de-8a...</td>\n",
       "    </tr>\n",
       "    <tr>\n",
       "      <th>3</th>\n",
       "      <td>data/test_0816/short_10s/04d9e7e2-b06d-48de-8a...</td>\n",
       "    </tr>\n",
       "    <tr>\n",
       "      <th>4</th>\n",
       "      <td>data/test_0816/short_10s/04d9e7e2-b06d-48de-8a...</td>\n",
       "    </tr>\n",
       "  </tbody>\n",
       "</table>\n",
       "</div>"
      ],
      "text/plain": [
       "                                          contact_id\n",
       "0  data/test_0816/short_10s/04d9e7e2-b06d-48de-8a...\n",
       "1  data/test_0816/short_10s/04d9e7e2-b06d-48de-8a...\n",
       "2  data/test_0816/short_10s/04d9e7e2-b06d-48de-8a...\n",
       "3  data/test_0816/short_10s/04d9e7e2-b06d-48de-8a...\n",
       "4  data/test_0816/short_10s/04d9e7e2-b06d-48de-8a..."
      ]
     },
     "execution_count": 26,
     "metadata": {},
     "output_type": "execute_result"
    }
   ],
   "source": [
    "import pandas as pd\n",
    "import glob\n",
    "import os\n",
    "\n",
    "dataset_name = 'test_0816'\n",
    "wav_dir = \"data/test_0816/short_10s\"\n",
    "\n",
    "wav_files = sorted(glob.glob(os.path.join(wav_dir, '*.wav')))\n",
    "\n",
    "df = pd.DataFrame(wav_files, columns=['contact_id'])\n",
    "# start_id = 0\n",
    "# df = pd.DataFrame([[text.strip().split()[0], \" \".join(text.strip().split()[1:])] for text in texts[start_id:]], columns=['idx', 'true'])\n",
    "# df.head()\n",
    "\n",
    "# df_path = pd.DataFrame([path.strip().split() for path in audio_paths[start_id:]], columns=['idx', 'file_id'])\n",
    "# df_path.head()\n",
    "\n",
    "# df = pd.merge(df, df_path, on='idx')\n",
    "df.head()"
   ]
  },
  {
   "cell_type": "markdown",
   "id": "715a2802-ea98-4293-8af1-5da1f614ae2a",
   "metadata": {},
   "source": [
    "## clear GPU"
   ]
  },
  {
   "cell_type": "code",
   "execution_count": 14,
   "id": "6f146fff-9046-45e4-b345-e6219a510dc8",
   "metadata": {
    "tags": []
   },
   "outputs": [],
   "source": [
    "import gc\n",
    "\n",
    "# Clear the model from GPU memory\n",
    "def clear_model_from_gpu(model):\n",
    "    # Delete the model object\n",
    "    del model\n",
    "    # Force garbage collection to free any unreferenced memory\n",
    "    gc.collect()\n",
    "    # Clear any existing CUDA cache\n",
    "    torch.cuda.empty_cache()\n",
    "    # Optionally, you can reinitialize the CUDA context by calling CUDA operations\n",
    "    torch.cuda.synchronize()\n",
    "    \n",
    "    print(\"Model cleared from GPU memory.\")"
   ]
  },
  {
   "cell_type": "markdown",
   "id": "8ff3727d-619d-4657-a4f9-d4439983bb1b",
   "metadata": {},
   "source": [
    "## convert a checkpoint to faster whisper"
   ]
  },
  {
   "cell_type": "code",
   "execution_count": 20,
   "id": "55705ae3-68bd-4305-9058-51f858809920",
   "metadata": {
    "tags": []
   },
   "outputs": [],
   "source": [
    "# ckpt_dir = \"/home/ec2-user/SageMaker/efs/Projects/whisper/checkpoint/checkpoint-v7/checkpoint-60\"\n",
    "\n",
    "# save_dir = \"./model\""
   ]
  },
  {
   "cell_type": "code",
   "execution_count": 21,
   "id": "0b0f2814-4ef4-41ef-9191-721e2e42722c",
   "metadata": {
    "tags": []
   },
   "outputs": [],
   "source": [
    "# !ct2-transformers-converter --model {ckpt_dir} --output_dir {save_dir} \\\n",
    "# --copy_files tokenizer.json preprocessor_config.json --quantization float16"
   ]
  },
  {
   "cell_type": "code",
   "execution_count": 22,
   "id": "0e7bb5a1-3b93-4dd6-a2b3-34b9fcca11a5",
   "metadata": {
    "scrolled": true,
    "tags": []
   },
   "outputs": [
    {
     "name": "stderr",
     "output_type": "stream",
     "text": [
      "Loading checkpoint shards: 100%|██████████| 2/2 [00:01<00:00,  1.73it/s]\n",
      "Special tokens have been added in the vocabulary, make sure the associated word embeddings are fine-tuned or trained.\n"
     ]
    },
    {
     "name": "stdout",
     "output_type": "stream",
     "text": [
      "model label: v7-60, result: 唔解唔解喂你好mon喂你好mon東芝服務部係唔幫到你㗎呢係咁樣㗎我想問一問哦喂係唔幫到你㗎呢我嗰個請緊我個焗爐壞咗啊麻煩你搵人過去整啦嗱小姐你嗰個焗爐嗰個型號麻煩你咩提供畀我唔該我畀我電話畀你囉好無問題係98827273好你我想問一問我想問一個問題小姐你係咪之前裝過公司續保嚟㗎係係係呀好得等等點稱呼嘅呢小姐本人我姓王嘅好等開陣喇王小姐等等六八二七二七三係喇將佢怒心都成一期錄咗三十七流嘅處我我想問一問嘅王小姐依家你報徵過路佢咩問題㗎呃我唔知佢個喉塞咗喇去即係總之就成日都F02囉但係你當時嘅水盒係滿曬水㗎嘛係咪去喎去喎去喎去喎有冇試過將嗰個水盒即係成個水盒拉出去再拍返圓位佢會唔會再出一份嘢都唔得唔得�你等多一陣喇咁就等一等將軍我信到成果比啦多望望如果最快呢我哋呢邊就可以安排師傅七月廿三號上門唔知廿七我們方唔方便王先生有咩問時間嗰度呢你預佢我哋師傅上門時間都係廿三號當日大約中午十二點至下集五點鐘呢段時間咁師傅黎之前呢我估佢會再畀個電話畀你先嘅我邊台照落單啦王小姐喺呢度好唔該曬你呢度唔該啦拜拜好唔該你拜拜\n"
     ]
    },
    {
     "name": "stderr",
     "output_type": "stream",
     "text": [
      " 10%|▉         | 2/21 [00:08<01:18,  4.13s/it]Whisper did not predict an ending timestamp, which can happen if audio is cut off in the middle of a word. Also make sure WhisperTimeStampLogitsProcessor was used during generation.\n",
      " 43%|████▎     | 9/21 [01:14<02:10, 10.89s/it]Whisper did not predict an ending timestamp, which can happen if audio is cut off in the middle of a word. Also make sure WhisperTimeStampLogitsProcessor was used during generation.\n",
      " 48%|████▊     | 10/21 [01:20<01:42,  9.29s/it]Whisper did not predict an ending timestamp, which can happen if audio is cut off in the middle of a word. Also make sure WhisperTimeStampLogitsProcessor was used during generation.\n",
      " 62%|██████▏   | 13/21 [01:39<00:59,  7.39s/it]Whisper did not predict an ending timestamp, which can happen if audio is cut off in the middle of a word. Also make sure WhisperTimeStampLogitsProcessor was used during generation.\n",
      "100%|██████████| 21/21 [02:23<00:00,  6.85s/it]\n"
     ]
    },
    {
     "name": "stdout",
     "output_type": "stream",
     "text": [
      "Model cleared from GPU memory.\n",
      "model label: faster-v7-60, result: 唔解唔解喂你好mon喂你好mon東芝服務部係唔幫到你㗎呢係咁樣㗎我唔想咁樣喂係唔幫到你㗎呢點解我個焗爐壞咗呀麻煩你搵人過去整啦嗱小姐你嗰個焗爐嗰個型號麻煩你咩提供畀我唔該請個個型號我畀我個電話畀你喎好無問題係呀係九八八二七二七三好你喇我想問一問我想問一個問題小姐你唔係之前裝過公司續保嚟㗎係係係呀好得等等點稱呼嘅呢小姐本人我姓王㗎好等開陣喇王小姐等等九八八二七二七三係喇將會路伸到成一期六座三十七樓的船哦我想問一問嘅王小姐依家你報徵過路佢咩問題㗎呃我唔知佢個喉塞咗喇去即係總之就成日都F02囉但係你當時嘅水盒係滿曬水㗎嘛係咪去喎去喇去喇去喇有冇試過將嗰個水盒即成個水盒拉出嚟再拍返圓位佢會唔會再展出F2都唔得唔得唔明你等多一陣喇咁就等一等將功勞伸到成嗰邊喇咁望唔望如果最快呢我哋呢邊就可以安排師傅七月廿三號上門唔知廿七我哋方唔方便王小姐想問問時間嗰度呢你預佢我哋師傅上門時間都係廿三號當日大約中午十二點至下午五點鐘呢段時間咁師傅嚟之前呢我佢都會再畀個電話畀你先嘅我邊台照落單喇王小姐喺呢度好唔該曬你呢度唔該拜拜好唔該你拜拜好唔該你拜拜\n"
     ]
    },
    {
     "name": "stderr",
     "output_type": "stream",
     "text": [
      " 10%|▉         | 2/21 [00:08<01:18,  4.16s/it]Whisper did not predict an ending timestamp, which can happen if audio is cut off in the middle of a word. Also make sure WhisperTimeStampLogitsProcessor was used during generation.\n",
      " 43%|████▎     | 9/21 [01:14<02:11, 10.93s/it]Whisper did not predict an ending timestamp, which can happen if audio is cut off in the middle of a word. Also make sure WhisperTimeStampLogitsProcessor was used during generation.\n",
      " 48%|████▊     | 10/21 [01:20<01:42,  9.33s/it]Whisper did not predict an ending timestamp, which can happen if audio is cut off in the middle of a word. Also make sure WhisperTimeStampLogitsProcessor was used during generation.\n",
      " 62%|██████▏   | 13/21 [01:40<00:59,  7.40s/it]Whisper did not predict an ending timestamp, which can happen if audio is cut off in the middle of a word. Also make sure WhisperTimeStampLogitsProcessor was used during generation.\n",
      "100%|██████████| 21/21 [02:24<00:00,  6.87s/it]\n"
     ]
    },
    {
     "name": "stdout",
     "output_type": "stream",
     "text": [
      "Model cleared from GPU memory.\n"
     ]
    },
    {
     "name": "stderr",
     "output_type": "stream",
     "text": [
      "Special tokens have been added in the vocabulary, make sure the associated word embeddings are fine-tuned or trained.\n"
     ]
    },
    {
     "name": "stdout",
     "output_type": "stream",
     "text": [
      "model label: large-v3, result:  喂,你好,Mone,東芝服務部,係咪幫到你㗎呢? 喂?係咪幫到你㗎呢? 喂,請問我個焗爐壞咗,麻煩你搵人過去整啦 嗱,小姐,你嗰個焗爐嗰個型號麻煩你咩�局奴的型號 我給你電話號碼 98827273 我想問一個問題 你是不是之前加入過的公司續保? 是的 怎樣稱呼的呢? 我姓黃既。 好,等開一陣啦,黃小姐,等一等。 八八二七二七三, 係喇,將我路伸到成一期六座三十七樓一處。 哦,我想問一問既黃小姐,依家你報徵過路佢咩問題架? 呃,我唔知係咪個喉塞左 總之就成日都F02 但係你當時水盒係滿曬水架嘛係咪 係喎係喎係喎 有冇試過將個水盒 即係成個水盒拉出嚟再拍返原位 佢會唔會再減出F02 都唔得 唔得 將官奧信到成果備 再看看 如果最快我們這邊就可以安排師傅 7月23日上門 不知道23日會否方便 黃先生有什麼問題 時間那裡你預計師傅上門時間 都是23日當天大約 中午12點至下午5點鐘 呢段時間,師傅來之前呢 都會再給個電話給你先的 我一邊同你照落單啦,黃小姐,好,謝謝你,拜拜 好,謝謝你,拜拜\n"
     ]
    },
    {
     "name": "stderr",
     "output_type": "stream",
     "text": [
      " 10%|▉         | 2/21 [00:07<01:11,  3.76s/it]Whisper did not predict an ending timestamp, which can happen if audio is cut off in the middle of a word. Also make sure WhisperTimeStampLogitsProcessor was used during generation.\n",
      " 95%|█████████▌| 20/21 [02:03<00:05,  5.82s/it]Whisper did not predict an ending timestamp, which can happen if audio is cut off in the middle of a word. Also make sure WhisperTimeStampLogitsProcessor was used during generation.\n",
      "100%|██████████| 21/21 [02:08<00:00,  6.11s/it]\n"
     ]
    },
    {
     "name": "stdout",
     "output_type": "stream",
     "text": [
      "Model cleared from GPU memory.\n",
      "model label: faster-large-v3, result:  喂,你好Mon,東芝服務部,係咪幫到你㗎呢? 喂?係咪幫到你㗎呢? 小姐,你嗰個焗爐嗰個型號麻煩你咩提供畀我唔該? 我畀我電話畀你喎,因為... 無問題 係,98827273 我想問一個問題,小姐你係咪之前join過個公司族補嚟㗎? 係係係呀 好,得,等,點稱呼既呢?小姐本人 我姓黃㗎 好,等開一陣啦,黃小姐等 98827273 係喇,張安路,新都城,一期六座,三十七樓 係喇,張安路,新都城,一期六座,三十七樓 係喇,張安路,新都城,一期六座,三十七樓 嘩,我想問一問嘅,黃小姐,依家你報徵過路佢咩問題㗎? 唔知咪個喉塞咗呀佢,總之就成日都F02囉 但係你當時水盒係滿曬水㗎嘛係咪? 係喎係喎係喎係喎 有冇試過將個水盒,即係成個水盒拉出嚟再拍返原位,佢會唔會再... 有呀有呀 都唔得? 唔得 唔明,你等多一陣啦,咁就等一等 張安路,新都城,那邊,我睇睇 如果最快呢,我哋呢邊就可以安排師傅七月廿三號上門 唔知廿三號你方唔方便,黃小姐想問一問 時間嗰度呢,你預佢我哋師傅上門時間都係廿三號當日 大約中午十二點至下午五點鐘呢段時間 咁師傅嚟之前呢,我都會再比個電話畀你先嘅 我一邊同你照落單啦,黃小姐,你都 好,唔該了 拜拜 唔該了,拜拜 拜拜\n"
     ]
    },
    {
     "name": "stderr",
     "output_type": "stream",
     "text": [
      "100%|██████████| 21/21 [09:07<00:00, 26.06s/it]\n"
     ]
    },
    {
     "name": "stdout",
     "output_type": "stream",
     "text": [
      "Model cleared from GPU memory.\n"
     ]
    }
   ],
   "source": [
    "import os\n",
    "import json\n",
    "import time\n",
    "from tqdm import tqdm\n",
    "from faster_whisper import WhisperModel\n",
    "from transformers import AutoModelForSpeechSeq2Seq, AutoProcessor, pipeline\n",
    "\n",
    "# Here, change the checkpoint path and the whisper model path\n",
    "\n",
    "model_ids = [\n",
    "    # {\"label\": \"v0-60\", \"model_path\": \"/home/ec2-user/SageMaker/efs/Projects/whisper/checkpoint/checkpoint-v0/checkpoint-60\"},\n",
    "    {\"label\": \"v7-60\", \"model_path\": \"/home/ec2-user/SageMaker/efs/Projects/whisper/checkpoint/checkpoint-v7/checkpoint-60\"},\n",
    "    {\"label\": \"faster-v7-60\", \"model_path\": \"/home/ec2-user/SageMaker/efs/Projects/whisper/checkpoint/checkpoint-v7/checkpoint-60-faster\"},  \n",
    "    # {\"label\": \"faster-v0-60\", \"model_path\": \"/home/ec2-user/SageMaker/efs/Projects/whisper/checkpoint/checkpoint-v0-bs64/checkpoint-60-faster\"},  \n",
    "    {\"label\": \"large-v3\", \"model_path\": \"/home/ec2-user/SageMaker/efs/Models/whisper-large-v3\"},\n",
    "    {\"label\": \"faster-large-v3\", \"model_path\": \"/home/ec2-user/SageMaker/efs/Models/faster-whisper-large-v3\"}, \n",
    "]\n",
    "\n",
    "sample = os.path.join(wav_dir, df.loc[0, 'contact_id']+'.wav')\n",
    "\n",
    "results = []\n",
    "\n",
    "num_test = 50\n",
    "df = df[:num_test]\n",
    "\n",
    "for model_id in model_ids:\n",
    "    label = model_id[\"label\"]\n",
    "    model_path = model_id[\"model_path\"]\n",
    "    \n",
    "    if 'faster' in label: \n",
    "        model = WhisperModel(model_path)\n",
    "        # model.to(device)\n",
    "        segments, info = model.transcribe(sample, language=\"yue\") # \n",
    "        pred = ''.join([segment.text for segment in segments])\n",
    "        print(f\"model label: {label}, result: {pred}\")\n",
    "    else:\n",
    "        model = AutoModelForSpeechSeq2Seq.from_pretrained(model_path, torch_dtype=torch_dtype, low_cpu_mem_usage=True, use_safetensors=True, attn_implementation=\"flash_attention_2\")\n",
    "        model.to(device)\n",
    "        \n",
    "        pipe = initialize_pipe(model, model_path)\n",
    "        if label == \"large-v3\" or label.startswith(\"ckpt\"):\n",
    "            result = pipe(sample, generate_kwargs={\"language\": \"cantonese\"})\n",
    "        else:\n",
    "            result = pipe(sample)\n",
    "            \n",
    "        print(f\"model label: {label}, result: {result['text']}\")\n",
    "    \n",
    "    for idx, row in tqdm(df.iterrows(), total=df.shape[0]):\n",
    "        filename = row['contact_id'] + '.wav'\n",
    "        filepath = os.path.join(wav_dir, filename)\n",
    "        \n",
    "        if not os.path.exists(filepath):\n",
    "            continue\n",
    "        \n",
    "        start_time = time.time()\n",
    "        if label == \"large-v3\" or label.startswith(\"ckpt\"):\n",
    "            result = pipe(filepath, generate_kwargs={\"language\": \"cantonese\"})\n",
    "        elif label == \"faster-large-v3\":\n",
    "            segments, info = model.transcribe(filepath, language=\"yue\") # \n",
    "            # for segment in segments:\n",
    "                # print(\"[%.2fs -> %.2fs] %s\" % (segment.start, segment.end, segment.text))\n",
    "            result = {'text': ''.join([segment.text for segment in segments])}\n",
    "        else:\n",
    "            result = pipe(filepath)\n",
    "        \n",
    "        time_cost = time.time() - start_time\n",
    "        \n",
    "        df.loc[idx, f\"pred-{label}\"] = result['text']\n",
    "        df.loc[idx, f\"time-{label}\"] = round(time_cost, 2)\n",
    "        df.loc[idx, f\"chunks-{label}\"] = json.dumps(result.get(\"chunks\", \"\"))\n",
    "    \n",
    "    clear_model_from_gpu(model)"
   ]
  },
  {
   "cell_type": "code",
   "execution_count": 23,
   "id": "6efb3724-98b3-4b6e-8b4c-cadfcfc03897",
   "metadata": {
    "tags": []
   },
   "outputs": [
    {
     "data": {
      "text/html": [
       "<div>\n",
       "<style scoped>\n",
       "    .dataframe tbody tr th:only-of-type {\n",
       "        vertical-align: middle;\n",
       "    }\n",
       "\n",
       "    .dataframe tbody tr th {\n",
       "        vertical-align: top;\n",
       "    }\n",
       "\n",
       "    .dataframe thead th {\n",
       "        text-align: right;\n",
       "    }\n",
       "</style>\n",
       "<table border=\"1\" class=\"dataframe\">\n",
       "  <thead>\n",
       "    <tr style=\"text-align: right;\">\n",
       "      <th></th>\n",
       "      <th>contact_id</th>\n",
       "      <th>content</th>\n",
       "      <th>extracted_content</th>\n",
       "      <th>pred-v7-60</th>\n",
       "      <th>time-v7-60</th>\n",
       "      <th>chunks-v7-60</th>\n",
       "      <th>pred-large-v3</th>\n",
       "      <th>time-large-v3</th>\n",
       "      <th>chunks-large-v3</th>\n",
       "      <th>pred-faster-large-v3</th>\n",
       "      <th>time-faster-large-v3</th>\n",
       "      <th>chunks-faster-large-v3</th>\n",
       "      <th>pred-faster-v7-60</th>\n",
       "      <th>time-faster-v7-60</th>\n",
       "      <th>chunks-faster-v7-60</th>\n",
       "    </tr>\n",
       "  </thead>\n",
       "  <tbody>\n",
       "    <tr>\n",
       "      <th>0</th>\n",
       "      <td>0c6c1fda-105d-43aa-bb5d-25486b3ed249</td>\n",
       "      <td>customer:可疑唔該做呀\\nagent:喂你好門\\nagent:喂你好門公司服務部係唔...</td>\n",
       "      <td>_______query_SR__costTime:68542ms;{\"statusCode...</td>\n",
       "      <td>唔解唔解喂你好mon喂你好mon東芝服務部係唔幫到你㗎呢係咁樣㗎我想問一問哦喂係唔幫到你㗎呢...</td>\n",
       "      <td>4.23</td>\n",
       "      <td>[{\"timestamp\": [0.0, 1.0], \"text\": \"\\u5514\\u89...</td>\n",
       "      <td>喂,你好,Mone,東芝服務部,係咪幫到你㗎呢? 喂?係咪幫到你㗎呢? 喂,請問我個焗爐壞...</td>\n",
       "      <td>3.76</td>\n",
       "      <td>[{\"timestamp\": [0.0, 7.0], \"text\": \" \\u5582,\\u...</td>\n",
       "      <td>喂,你好Mon,東芝服務部,係咪幫到你㗎呢? 喂?係咪幫到你㗎呢? 小姐,你嗰個焗爐嗰個型...</td>\n",
       "      <td>10.44</td>\n",
       "      <td>\"\"</td>\n",
       "      <td>唔解唔解喂你好mon喂你好mon東芝服務部係唔幫到你㗎呢係咁樣㗎我想問一問哦喂係唔幫到你㗎呢...</td>\n",
       "      <td>4.31</td>\n",
       "      <td>[{\"timestamp\": [0.0, 1.0], \"text\": \"\\u5514\\u89...</td>\n",
       "    </tr>\n",
       "    <tr>\n",
       "      <th>1</th>\n",
       "      <td>18522785-539a-4594-9ac6-1062d0f686a2</td>\n",
       "      <td>agent:好,公司合作,你幫\\ncustomer:係咪東支嗰邊呀\\nagent:無錯,有咩...</td>\n",
       "      <td>_______query_SR__costTime:15592ms;{\"statusCode...</td>\n",
       "      <td>東支那邊呀無錯我諗得幫到你你好呀我去屋企嗰部即係個洗衣機唔知咩事呢洗洗客衫咩突然呢導致團屋跳...</td>\n",
       "      <td>4.05</td>\n",
       "      <td>[{\"timestamp\": [0.0, 3.4], \"text\": \"\\u6771\\u65...</td>\n",
       "      <td>東芝那邊 沒錯,我想到你 你好,我家裡的洗衣機不知道什麼事 洗衣服突然導致屯屋跳電 跳災,...</td>\n",
       "      <td>3.75</td>\n",
       "      <td>[{\"timestamp\": [0.0, 3.6], \"text\": \" \\u6771\\u8...</td>\n",
       "      <td>東芝那邊 沒錯 我想幫到你 你好 我家裏的洗衣機不知甚麼事 洗衣服突然導致屯屋跳電 跳債是...</td>\n",
       "      <td>8.02</td>\n",
       "      <td>\"\"</td>\n",
       "      <td>東支那邊呀無錯我諗得幫到你你好呀我去屋企嗰部即係個洗衣機唔知咩事呢洗洗客衫咩突然呢導致團屋跳...</td>\n",
       "      <td>4.05</td>\n",
       "      <td>[{\"timestamp\": [0.0, 3.4], \"text\": \"\\u6771\\u65...</td>\n",
       "    </tr>\n",
       "    <tr>\n",
       "      <th>2</th>\n",
       "      <td>4028279d-fe0d-4898-a079-4a63e1cc16c2</td>\n",
       "      <td>agent:早晨通知服務鋪外出糧請買咩幫你�哎�\\ncustomer:我姓楊㗎\\ncusto...</td>\n",
       "      <td>_______query_SR__costTime:8293ms;{\"statusCode\"...</td>\n",
       "      <td>早晨通知服務部外送娘整咩咩幫你我姓楊架係係我呢發覺我個通知嘅洗衣機呢有啲問題呀嗯有啲大約咩問...</td>\n",
       "      <td>9.84</td>\n",
       "      <td>[{\"timestamp\": [0.0, 4.86], \"text\": \"\\u65e9\\u6...</td>\n",
       "      <td>早晨,東芝服務部,我係梁靜雯,有咩幫你? 我係姓楊,我發覺東芝洗衣機有啲問題 有啲大約咩問...</td>\n",
       "      <td>8.75</td>\n",
       "      <td>[{\"timestamp\": [0.0, 5.0], \"text\": \" \\u65e9\\u6...</td>\n",
       "      <td>早晨通知服務部,我姓梁,請問有什麼幫你? 我姓楊,我發覺我通知的洗衣機有些問題 有些大約什...</td>\n",
       "      <td>29.47</td>\n",
       "      <td>\"\"</td>\n",
       "      <td>早晨通知服務部外送娘整咩咩幫你我姓楊架係係我呢發覺我個通知嘅洗衣機呢有啲問題呀嗯有啲大約咩問...</td>\n",
       "      <td>9.85</td>\n",
       "      <td>[{\"timestamp\": [0.0, 4.86], \"text\": \"\\u65e9\\u6...</td>\n",
       "    </tr>\n",
       "    <tr>\n",
       "      <th>3</th>\n",
       "      <td>930224b6-17d3-4e8f-9da3-9878da6f9a10</td>\n",
       "      <td>agent:回到你\\nagent:你好\\ncustomer:喂你好呀我之前\\nagent:係...</td>\n",
       "      <td>_______query_SR__costTime:6647ms;{\"statusCode\"...</td>\n",
       "      <td>搬到你喂你好呀你好之前係呀之前安排咗師傅上去我度睇嘅睇完之後我會搵運輸搵走但到依家都未有se...</td>\n",
       "      <td>4.77</td>\n",
       "      <td>[{\"timestamp\": [0.0, 1.0], \"text\": \"\\u642c\\u52...</td>\n",
       "      <td>幫到你 喂你好呀 之前安排咗師傅上去我度睇嘅 睇完之後我以為會運輸運走 但到依家都未有聲氣...</td>\n",
       "      <td>4.22</td>\n",
       "      <td>[{\"timestamp\": [0.0, 1.0], \"text\": \" \\u5e6b\\u5...</td>\n",
       "      <td>你好呀,之前安排咗師傅上去我度睇嘅,睇完之後會搵書搵酒,但到依家都未有聲氣,因為我之後要去...</td>\n",
       "      <td>10.86</td>\n",
       "      <td>\"\"</td>\n",
       "      <td>搬到你喂你好呀你好之前係呀之前安排咗師傅上去我度睇嘅睇完之後我會搵運輸搵走但到依家都未有se...</td>\n",
       "      <td>4.64</td>\n",
       "      <td>[{\"timestamp\": [0.0, 1.0], \"text\": \"\\u642c\\u52...</td>\n",
       "    </tr>\n",
       "    <tr>\n",
       "      <th>4</th>\n",
       "      <td>1933fbf7-e0c0-4d50-abe7-d5e137545ee6</td>\n",
       "      <td>agent:早晨�早晨�總之復活部�我姓梁�請問咩幫你�\\ncustomer:你好我想預約呢...</td>\n",
       "      <td>_______query_SR__costTime:6899ms;{\"statusCode\"...</td>\n",
       "      <td>早晨早晨總之復活部我姓梁請問咩幫你你好我想預約呢洗機維修㗎但應該就過咗個唔小姐有冇電話號碼可...</td>\n",
       "      <td>4.61</td>\n",
       "      <td>[{\"timestamp\": [0.0, 4.8], \"text\": \"\\u65e9\\u66...</td>\n",
       "      <td>早晨,中資庫務部,我姓梁,請問有什麼幫你? 你好,我想約洗衣機維修,但應該過了個... 嗯...</td>\n",
       "      <td>4.13</td>\n",
       "      <td>[{\"timestamp\": [0.0, 5.0], \"text\": \" \\u65e9\\u6...</td>\n",
       "      <td>早晨,中資服務部,我姓梁,請問有什麼幫你? 你好,我想約洗衣機維修,但應該過了個… 嗯,小...</td>\n",
       "      <td>11.46</td>\n",
       "      <td>\"\"</td>\n",
       "      <td>早晨早晨總之復活部我姓梁請問咩幫你你好我想預約呢洗機維修㗎但應該就過咗個唔小姐有冇電話號碼可...</td>\n",
       "      <td>4.60</td>\n",
       "      <td>[{\"timestamp\": [0.0, 4.8], \"text\": \"\\u65e9\\u66...</td>\n",
       "    </tr>\n",
       "  </tbody>\n",
       "</table>\n",
       "</div>"
      ],
      "text/plain": [
       "                             contact_id  \\\n",
       "0  0c6c1fda-105d-43aa-bb5d-25486b3ed249   \n",
       "1  18522785-539a-4594-9ac6-1062d0f686a2   \n",
       "2  4028279d-fe0d-4898-a079-4a63e1cc16c2   \n",
       "3  930224b6-17d3-4e8f-9da3-9878da6f9a10   \n",
       "4  1933fbf7-e0c0-4d50-abe7-d5e137545ee6   \n",
       "\n",
       "                                             content  \\\n",
       "0  customer:可疑唔該做呀\\nagent:喂你好門\\nagent:喂你好門公司服務部係唔...   \n",
       "1  agent:好,公司合作,你幫\\ncustomer:係咪東支嗰邊呀\\nagent:無錯,有咩...   \n",
       "2  agent:早晨通知服務鋪外出糧請買咩幫你�哎�\\ncustomer:我姓楊㗎\\ncusto...   \n",
       "3  agent:回到你\\nagent:你好\\ncustomer:喂你好呀我之前\\nagent:係...   \n",
       "4  agent:早晨�早晨�總之復活部�我姓梁�請問咩幫你�\\ncustomer:你好我想預約呢...   \n",
       "\n",
       "                                   extracted_content  \\\n",
       "0  _______query_SR__costTime:68542ms;{\"statusCode...   \n",
       "1  _______query_SR__costTime:15592ms;{\"statusCode...   \n",
       "2  _______query_SR__costTime:8293ms;{\"statusCode\"...   \n",
       "3  _______query_SR__costTime:6647ms;{\"statusCode\"...   \n",
       "4  _______query_SR__costTime:6899ms;{\"statusCode\"...   \n",
       "\n",
       "                                          pred-v7-60  time-v7-60  \\\n",
       "0  唔解唔解喂你好mon喂你好mon東芝服務部係唔幫到你㗎呢係咁樣㗎我想問一問哦喂係唔幫到你㗎呢...        4.23   \n",
       "1  東支那邊呀無錯我諗得幫到你你好呀我去屋企嗰部即係個洗衣機唔知咩事呢洗洗客衫咩突然呢導致團屋跳...        4.05   \n",
       "2  早晨通知服務部外送娘整咩咩幫你我姓楊架係係我呢發覺我個通知嘅洗衣機呢有啲問題呀嗯有啲大約咩問...        9.84   \n",
       "3  搬到你喂你好呀你好之前係呀之前安排咗師傅上去我度睇嘅睇完之後我會搵運輸搵走但到依家都未有se...        4.77   \n",
       "4  早晨早晨總之復活部我姓梁請問咩幫你你好我想預約呢洗機維修㗎但應該就過咗個唔小姐有冇電話號碼可...        4.61   \n",
       "\n",
       "                                        chunks-v7-60  \\\n",
       "0  [{\"timestamp\": [0.0, 1.0], \"text\": \"\\u5514\\u89...   \n",
       "1  [{\"timestamp\": [0.0, 3.4], \"text\": \"\\u6771\\u65...   \n",
       "2  [{\"timestamp\": [0.0, 4.86], \"text\": \"\\u65e9\\u6...   \n",
       "3  [{\"timestamp\": [0.0, 1.0], \"text\": \"\\u642c\\u52...   \n",
       "4  [{\"timestamp\": [0.0, 4.8], \"text\": \"\\u65e9\\u66...   \n",
       "\n",
       "                                       pred-large-v3  time-large-v3  \\\n",
       "0   喂,你好,Mone,東芝服務部,係咪幫到你㗎呢? 喂?係咪幫到你㗎呢? 喂,請問我個焗爐壞...           3.76   \n",
       "1   東芝那邊 沒錯,我想到你 你好,我家裡的洗衣機不知道什麼事 洗衣服突然導致屯屋跳電 跳災,...           3.75   \n",
       "2   早晨,東芝服務部,我係梁靜雯,有咩幫你? 我係姓楊,我發覺東芝洗衣機有啲問題 有啲大約咩問...           8.75   \n",
       "3   幫到你 喂你好呀 之前安排咗師傅上去我度睇嘅 睇完之後我以為會運輸運走 但到依家都未有聲氣...           4.22   \n",
       "4   早晨,中資庫務部,我姓梁,請問有什麼幫你? 你好,我想約洗衣機維修,但應該過了個... 嗯...           4.13   \n",
       "\n",
       "                                     chunks-large-v3  \\\n",
       "0  [{\"timestamp\": [0.0, 7.0], \"text\": \" \\u5582,\\u...   \n",
       "1  [{\"timestamp\": [0.0, 3.6], \"text\": \" \\u6771\\u8...   \n",
       "2  [{\"timestamp\": [0.0, 5.0], \"text\": \" \\u65e9\\u6...   \n",
       "3  [{\"timestamp\": [0.0, 1.0], \"text\": \" \\u5e6b\\u5...   \n",
       "4  [{\"timestamp\": [0.0, 5.0], \"text\": \" \\u65e9\\u6...   \n",
       "\n",
       "                                pred-faster-large-v3  time-faster-large-v3  \\\n",
       "0   喂,你好Mon,東芝服務部,係咪幫到你㗎呢? 喂?係咪幫到你㗎呢? 小姐,你嗰個焗爐嗰個型...                 10.44   \n",
       "1   東芝那邊 沒錯 我想幫到你 你好 我家裏的洗衣機不知甚麼事 洗衣服突然導致屯屋跳電 跳債是...                  8.02   \n",
       "2   早晨通知服務部,我姓梁,請問有什麼幫你? 我姓楊,我發覺我通知的洗衣機有些問題 有些大約什...                 29.47   \n",
       "3   你好呀,之前安排咗師傅上去我度睇嘅,睇完之後會搵書搵酒,但到依家都未有聲氣,因為我之後要去...                 10.86   \n",
       "4   早晨,中資服務部,我姓梁,請問有什麼幫你? 你好,我想約洗衣機維修,但應該過了個… 嗯,小...                 11.46   \n",
       "\n",
       "  chunks-faster-large-v3                                  pred-faster-v7-60  \\\n",
       "0                     \"\"  唔解唔解喂你好mon喂你好mon東芝服務部係唔幫到你㗎呢係咁樣㗎我想問一問哦喂係唔幫到你㗎呢...   \n",
       "1                     \"\"  東支那邊呀無錯我諗得幫到你你好呀我去屋企嗰部即係個洗衣機唔知咩事呢洗洗客衫咩突然呢導致團屋跳...   \n",
       "2                     \"\"  早晨通知服務部外送娘整咩咩幫你我姓楊架係係我呢發覺我個通知嘅洗衣機呢有啲問題呀嗯有啲大約咩問...   \n",
       "3                     \"\"  搬到你喂你好呀你好之前係呀之前安排咗師傅上去我度睇嘅睇完之後我會搵運輸搵走但到依家都未有se...   \n",
       "4                     \"\"  早晨早晨總之復活部我姓梁請問咩幫你你好我想預約呢洗機維修㗎但應該就過咗個唔小姐有冇電話號碼可...   \n",
       "\n",
       "   time-faster-v7-60                                chunks-faster-v7-60  \n",
       "0               4.31  [{\"timestamp\": [0.0, 1.0], \"text\": \"\\u5514\\u89...  \n",
       "1               4.05  [{\"timestamp\": [0.0, 3.4], \"text\": \"\\u6771\\u65...  \n",
       "2               9.85  [{\"timestamp\": [0.0, 4.86], \"text\": \"\\u65e9\\u6...  \n",
       "3               4.64  [{\"timestamp\": [0.0, 1.0], \"text\": \"\\u642c\\u52...  \n",
       "4               4.60  [{\"timestamp\": [0.0, 4.8], \"text\": \"\\u65e9\\u66...  "
      ]
     },
     "execution_count": 23,
     "metadata": {},
     "output_type": "execute_result"
    }
   ],
   "source": [
    "df.head()"
   ]
  },
  {
   "cell_type": "code",
   "execution_count": 24,
   "id": "44a12728-a485-4f9c-abfe-f078d5e79706",
   "metadata": {
    "tags": []
   },
   "outputs": [],
   "source": [
    "df.to_csv(\"data/test_0816/comparisons.csv\", index=False)"
   ]
  },
  {
   "cell_type": "markdown",
   "id": "3d36b749-924b-49b7-b0cb-e4975b7c73c0",
   "metadata": {},
   "source": [
    "## CER calculation"
   ]
  },
  {
   "cell_type": "code",
   "execution_count": null,
   "id": "038c836c-373e-4224-96ba-fb142d1c7f1c",
   "metadata": {
    "tags": []
   },
   "outputs": [],
   "source": [
    "import re\n",
    "import jiwer\n",
    "from whisper.normalizers import BasicTextNormalizer, EnglishTextNormalizer\n",
    "\n",
    "class ChineseTextNormalizer:\n",
    "    def __init__(self, split_letters: bool = False):\n",
    "\n",
    "        self.split_letters = split_letters\n",
    "\n",
    "    def __call__(self, s: str):\n",
    "        s = s.lower()\n",
    "        # s = re.sub(r\"[<\\[][^>\\]]*[>\\]]\", \"\", s)  # remove words between brackets\n",
    "        # s = re.sub(r\"\\(([^)]+?)\\)\", \"\", s)  # remove words between parenthesis\n",
    "        # s = self.clean(s).lower()\n",
    "\n",
    "        # if self.split_letters:\n",
    "        #     s = \" \".join(regex.findall(r\"\\X\", s, regex.U))\n",
    "\n",
    "        s = re.sub(\n",
    "            r\"\\s+\", \"\", s\n",
    "        )  # remove any successive whitespace characters\n",
    "        \n",
    "        return s\n",
    "    \n",
    "# normalizer = EnglishTextNormalizer()\n",
    "# normalizer = BasicTextNormalizer()\n",
    "normalizer = ChineseTextNormalizer()"
   ]
  },
  {
   "cell_type": "code",
   "execution_count": null,
   "id": "94da5bcc-9ac1-4e0a-a9c5-45b6af43365d",
   "metadata": {
    "tags": []
   },
   "outputs": [],
   "source": [
    "df.head()"
   ]
  },
  {
   "cell_type": "code",
   "execution_count": null,
   "id": "66b770ec-1b14-44de-ad8a-da60acf7d74b",
   "metadata": {
    "tags": []
   },
   "outputs": [],
   "source": [
    "new_columns = ['true', 'true-clean']\n",
    "pred_cols, cer_cols, time_cols = [], [], []\n",
    "chunk_cols = []\n",
    "for model_id in model_ids:\n",
    "    label = model_id['label']\n",
    "    pred_cols.extend([f'pred-{label}',f'pred-{label}-clean'])\n",
    "    cer_cols.append(f'cer-{label}')\n",
    "    if f'chunks-{label}' in df.columns:\n",
    "        chunk_cols.append(f'chunks-{label}')\n",
    "        \n",
    "    time_cols.append(f'time-{label}')\n",
    "\n",
    "new_columns.extend(pred_cols+cer_cols+time_cols+chunk_cols)\n",
    "# new_columns.extend(['file_id', 'user_id', 'category_name'])\n",
    "# new_columns.extend(['file_id', 'user_id', 'category_name'])\n",
    "new_columns.extend(['file_id'])\n",
    "\n",
    "\n",
    "for i, row in tqdm(df.iterrows(), total=df.shape[0]):\n",
    "    \n",
    "    true_clean = normalizer(row['true'])\n",
    "    df.loc[i, 'true-clean'] = true_clean\n",
    "    \n",
    "    for model_id in model_ids:\n",
    "        label = model_id['label']\n",
    "        pred_clean = normalizer(row[f'pred-{label}'])\n",
    "        df.loc[i, f'pred-{label}-clean'] = pred_clean\n",
    "        \n",
    "        cer = jiwer.cer(true_clean, pred_clean)\n",
    "        df.loc[i, f'cer-{label}'] = cer\n",
    "        \n",
    "df = df[new_columns]\n",
    "df = df.fillna(\"\")\n",
    "df.to_csv(f\"outputs/transcripts_{dataset_name}.csv\", index=False)\n",
    "df.head(10)"
   ]
  },
  {
   "cell_type": "code",
   "execution_count": null,
   "id": "fb9d545e-7697-4845-852f-721d8c49f697",
   "metadata": {
    "tags": []
   },
   "outputs": [],
   "source": [
    "df = df.fillna(\"\")\n",
    "cers = []\n",
    "for model_id in model_ids:\n",
    "    label = model_id['label']\n",
    "    df = df[df[f\"pred-{label}-clean\"]!='']\n",
    "    cer = jiwer.cer(list(df[\"true-clean\"]), list(df[f\"pred-{label}-clean\"]))\n",
    "    \n",
    "    cers.append({'model': label, 'cer': cer})\n",
    "\n",
    "df_cers = pd.DataFrame(cers)\n",
    "df_cers.to_csv(f\"outputs/cers_{dataset_name}.csv\", index=False)\n",
    "df_cers.head()"
   ]
  },
  {
   "cell_type": "code",
   "execution_count": null,
   "id": "a49f18f8-c91b-4a03-acca-2cc4e9ed4455",
   "metadata": {
    "tags": []
   },
   "outputs": [],
   "source": [
    "df_cer_stats = df[cer_cols].describe(percentiles=[0.5, 0.6, 0.7, 0.8, 0.9, 0.95, 0.99])\n",
    "df_cer_stats.to_csv(f\"outputs/cer_stats_{dataset_name}.csv\")\n",
    "df_cer_stats"
   ]
  },
  {
   "cell_type": "code",
   "execution_count": null,
   "id": "57e0b359-d16c-4419-a718-e9d22ef26a03",
   "metadata": {
    "tags": []
   },
   "outputs": [],
   "source": [
    "df_time_stats = df[time_cols].describe(percentiles=[0.5, 0.6, 0.7, 0.8, 0.9, 0.95, 0.99])\n",
    "df_time_stats.to_csv(f\"outputs/time_stats_{dataset_name}.csv\")\n",
    "df_time_stats"
   ]
  },
  {
   "cell_type": "markdown",
   "id": "bfa78fef-70b8-4fa0-93f3-e3b74f5d2fb8",
   "metadata": {},
   "source": [
    "# Calculate the statistics of dataset"
   ]
  },
  {
   "cell_type": "code",
   "execution_count": null,
   "id": "21192a0e-11f1-4bbc-adb7-fff200d622ef",
   "metadata": {
    "tags": []
   },
   "outputs": [],
   "source": [
    "# import pandas as pd\n",
    "\n",
    "# path = \"data/cv-corpus-17.0-2024-03-15/zh-HK/clip_durations.tsv\"\n",
    "\n",
    "# df = pd.read_csv(path, sep='\\t')\n",
    "# df.head()"
   ]
  },
  {
   "cell_type": "code",
   "execution_count": null,
   "id": "c9648a5e-fc9e-47e0-a3d3-ca1d558baaaa",
   "metadata": {
    "tags": []
   },
   "outputs": [],
   "source": [
    "# df['duration[ms]'].describe()"
   ]
  },
  {
   "cell_type": "code",
   "execution_count": null,
   "id": "30ff9dad-08c4-40cf-ab4e-b26aaf474673",
   "metadata": {},
   "outputs": [],
   "source": []
  }
 ],
 "metadata": {
  "kernelspec": {
   "display_name": "conda_whisper",
   "language": "python",
   "name": "conda_whisper"
  },
  "language_info": {
   "codemirror_mode": {
    "name": "ipython",
    "version": 3
   },
   "file_extension": ".py",
   "mimetype": "text/x-python",
   "name": "python",
   "nbconvert_exporter": "python",
   "pygments_lexer": "ipython3",
   "version": "3.10.14"
  }
 },
 "nbformat": 4,
 "nbformat_minor": 5
}
